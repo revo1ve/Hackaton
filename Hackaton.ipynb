{
  "nbformat": 4,
  "nbformat_minor": 0,
  "metadata": {
    "colab": {
      "name": "Hackaton.ipynb",
      "provenance": [],
      "collapsed_sections": [
        "Omv1_0w6VJth",
        "jenpF8qQHIba",
        "AMpH4Bw20ckR",
        "-cyFzK2HziuR"
      ]
    },
    "kernelspec": {
      "name": "python3",
      "display_name": "Python 3"
    }
  },
  "cells": [
    {
      "cell_type": "markdown",
      "metadata": {
        "id": "Omv1_0w6VJth"
      },
      "source": [
        "### Приколы"
      ]
    },
    {
      "cell_type": "code",
      "metadata": {
        "id": "zV6kruwfzOfv",
        "colab": {
          "base_uri": "https://localhost:8080/"
        },
        "outputId": "40480020-8076-4ead-f430-2ed2e729b73e"
      },
      "source": [
        "!pip install mysql-connector-python\r\n",
        "!pip install prettytable\r\n",
        "!pip install pandas\r\n",
        "\r\n",
        "import mysql.connector\r\n",
        "from prettytable import from_db_cursor\r\n",
        "import pandas as pd"
      ],
      "execution_count": null,
      "outputs": [
        {
          "output_type": "stream",
          "text": [
            "Collecting mysql-connector-python\n",
            "\u001b[?25l  Downloading https://files.pythonhosted.org/packages/de/f7/b783b60a3bd8aea348990c60fb0b3ed2f843c6f40ad29e37a89a5d50d7a3/mysql_connector_python-8.0.23-cp37-cp37m-manylinux1_x86_64.whl (18.0MB)\n",
            "\u001b[K     |████████████████████████████████| 18.1MB 248kB/s \n",
            "\u001b[?25hRequirement already satisfied: protobuf>=3.0.0 in /usr/local/lib/python3.7/dist-packages (from mysql-connector-python) (3.12.4)\n",
            "Requirement already satisfied: setuptools in /usr/local/lib/python3.7/dist-packages (from protobuf>=3.0.0->mysql-connector-python) (53.0.0)\n",
            "Requirement already satisfied: six>=1.9 in /usr/local/lib/python3.7/dist-packages (from protobuf>=3.0.0->mysql-connector-python) (1.15.0)\n",
            "Installing collected packages: mysql-connector-python\n",
            "Successfully installed mysql-connector-python-8.0.23\n",
            "Requirement already satisfied: prettytable in /usr/local/lib/python3.7/dist-packages (2.0.0)\n",
            "Requirement already satisfied: wcwidth in /usr/local/lib/python3.7/dist-packages (from prettytable) (0.2.5)\n",
            "Requirement already satisfied: setuptools in /usr/local/lib/python3.7/dist-packages (from prettytable) (53.0.0)\n",
            "Requirement already satisfied: pandas in /usr/local/lib/python3.7/dist-packages (1.1.5)\n",
            "Requirement already satisfied: python-dateutil>=2.7.3 in /usr/local/lib/python3.7/dist-packages (from pandas) (2.8.1)\n",
            "Requirement already satisfied: numpy>=1.15.4 in /usr/local/lib/python3.7/dist-packages (from pandas) (1.19.5)\n",
            "Requirement already satisfied: pytz>=2017.2 in /usr/local/lib/python3.7/dist-packages (from pandas) (2018.9)\n",
            "Requirement already satisfied: six>=1.5 in /usr/local/lib/python3.7/dist-packages (from python-dateutil>=2.7.3->pandas) (1.15.0)\n"
          ],
          "name": "stdout"
        }
      ]
    },
    {
      "cell_type": "code",
      "metadata": {
        "id": "_RBYQpbAysv9"
      },
      "source": [
        "cnx = mysql.connector.connect(user='hackathon', \r\n",
        "                              password='flK8DrGBOL',\r\n",
        "                              host='62.205.160.170',\r\n",
        "                              database='urait_mssql', \r\n",
        "                              port='6630')\r\n",
        "\r\n",
        "cursor = cnx.cursor(buffered=True,dictionary=True)"
      ],
      "execution_count": null,
      "outputs": []
    },
    {
      "cell_type": "markdown",
      "metadata": {
        "id": "sH-Lwzo8UfEg"
      },
      "source": [
        "## **Списки данных**"
      ]
    },
    {
      "cell_type": "code",
      "metadata": {
        "id": "bzI0USxP9PyA",
        "colab": {
          "base_uri": "https://localhost:8080/",
          "height": 142
        },
        "outputId": "d08653de-646c-402b-88b2-329637109618"
      },
      "source": [
        "cursor.execute(\"\"\"SELECT quiz_id FROM quiz_users \r\n",
        "                    WHERE ebs_user_id = '71116810-A5E6-4079-B31C-1A525510C543'\"\"\")\r\n",
        "df = cursor.fetchall()\r\n",
        "pd.set_option('display.max_rows', 10)\r\n",
        "pd.DataFrame(df)"
      ],
      "execution_count": null,
      "outputs": [
        {
          "output_type": "execute_result",
          "data": {
            "text/html": [
              "<div>\n",
              "<style scoped>\n",
              "    .dataframe tbody tr th:only-of-type {\n",
              "        vertical-align: middle;\n",
              "    }\n",
              "\n",
              "    .dataframe tbody tr th {\n",
              "        vertical-align: top;\n",
              "    }\n",
              "\n",
              "    .dataframe thead th {\n",
              "        text-align: right;\n",
              "    }\n",
              "</style>\n",
              "<table border=\"1\" class=\"dataframe\">\n",
              "  <thead>\n",
              "    <tr style=\"text-align: right;\">\n",
              "      <th></th>\n",
              "      <th>quiz_id</th>\n",
              "    </tr>\n",
              "  </thead>\n",
              "  <tbody>\n",
              "    <tr>\n",
              "      <th>0</th>\n",
              "      <td>8F284EC6-E47E-4036-BF98-D4CC128610EB</td>\n",
              "    </tr>\n",
              "    <tr>\n",
              "      <th>1</th>\n",
              "      <td>13F3C1B1-C21B-4FC0-8C6E-D0EA23CC9D15</td>\n",
              "    </tr>\n",
              "    <tr>\n",
              "      <th>2</th>\n",
              "      <td>13F3C1B1-C21B-4FC0-8C6E-D0EA23CC9D15</td>\n",
              "    </tr>\n",
              "  </tbody>\n",
              "</table>\n",
              "</div>"
            ],
            "text/plain": [
              "                                quiz_id\n",
              "0  8F284EC6-E47E-4036-BF98-D4CC128610EB\n",
              "1  13F3C1B1-C21B-4FC0-8C6E-D0EA23CC9D15\n",
              "2  13F3C1B1-C21B-4FC0-8C6E-D0EA23CC9D15"
            ]
          },
          "metadata": {
            "tags": []
          },
          "execution_count": 234
        }
      ]
    },
    {
      "cell_type": "code",
      "metadata": {
        "id": "Q3Jq6XreDoNb",
        "colab": {
          "base_uri": "https://localhost:8080/",
          "height": 204
        },
        "outputId": "5674db8c-c33d-48fc-b2b5-2fbc7f7d91d0"
      },
      "source": [
        "cursor.execute(\"\"\"SELECT ebs_user_id FROM quiz_users LIMIT 5\"\"\")\n",
        "df = cursor.fetchall()\n",
        "pd.set_option('display.max_rows', 10)\n",
        "pd.DataFrame(df)"
      ],
      "execution_count": null,
      "outputs": [
        {
          "output_type": "execute_result",
          "data": {
            "text/html": [
              "<div>\n",
              "<style scoped>\n",
              "    .dataframe tbody tr th:only-of-type {\n",
              "        vertical-align: middle;\n",
              "    }\n",
              "\n",
              "    .dataframe tbody tr th {\n",
              "        vertical-align: top;\n",
              "    }\n",
              "\n",
              "    .dataframe thead th {\n",
              "        text-align: right;\n",
              "    }\n",
              "</style>\n",
              "<table border=\"1\" class=\"dataframe\">\n",
              "  <thead>\n",
              "    <tr style=\"text-align: right;\">\n",
              "      <th></th>\n",
              "      <th>ebs_user_id</th>\n",
              "    </tr>\n",
              "  </thead>\n",
              "  <tbody>\n",
              "    <tr>\n",
              "      <th>0</th>\n",
              "      <td>71116810-A5E6-4079-B31C-1A525510C543</td>\n",
              "    </tr>\n",
              "    <tr>\n",
              "      <th>1</th>\n",
              "      <td>FF403515-DC85-4920-BC65-148B36318C02</td>\n",
              "    </tr>\n",
              "    <tr>\n",
              "      <th>2</th>\n",
              "      <td>85FD103C-CEDF-4147-95EC-44A213EFD486</td>\n",
              "    </tr>\n",
              "    <tr>\n",
              "      <th>3</th>\n",
              "      <td>85FD103C-CEDF-4147-95EC-44A213EFD486</td>\n",
              "    </tr>\n",
              "    <tr>\n",
              "      <th>4</th>\n",
              "      <td>1BB890C1-02CB-403B-B4E7-6A0A129878DB</td>\n",
              "    </tr>\n",
              "  </tbody>\n",
              "</table>\n",
              "</div>"
            ],
            "text/plain": [
              "                            ebs_user_id\n",
              "0  71116810-A5E6-4079-B31C-1A525510C543\n",
              "1  FF403515-DC85-4920-BC65-148B36318C02\n",
              "2  85FD103C-CEDF-4147-95EC-44A213EFD486\n",
              "3  85FD103C-CEDF-4147-95EC-44A213EFD486\n",
              "4  1BB890C1-02CB-403B-B4E7-6A0A129878DB"
            ]
          },
          "metadata": {
            "tags": []
          },
          "execution_count": 235
        }
      ]
    },
    {
      "cell_type": "code",
      "metadata": {
        "id": "_5C8AbWoZQjx",
        "colab": {
          "base_uri": "https://localhost:8080/",
          "height": 419
        },
        "outputId": "46a35529-dfde-4123-b4c2-adaf994e36a9"
      },
      "source": [
        "cursor.execute(\"\"\"SELECT DISTINCT main_partner_id FROM users_market_depart\"\"\")\r\n",
        "df = cursor.fetchall()\r\n",
        "pd.set_option('display.max_rows', 10)\r\n",
        "pd.DataFrame(df)"
      ],
      "execution_count": null,
      "outputs": [
        {
          "output_type": "execute_result",
          "data": {
            "text/html": [
              "<div>\n",
              "<style scoped>\n",
              "    .dataframe tbody tr th:only-of-type {\n",
              "        vertical-align: middle;\n",
              "    }\n",
              "\n",
              "    .dataframe tbody tr th {\n",
              "        vertical-align: top;\n",
              "    }\n",
              "\n",
              "    .dataframe thead th {\n",
              "        text-align: right;\n",
              "    }\n",
              "</style>\n",
              "<table border=\"1\" class=\"dataframe\">\n",
              "  <thead>\n",
              "    <tr style=\"text-align: right;\">\n",
              "      <th></th>\n",
              "      <th>main_partner_id</th>\n",
              "    </tr>\n",
              "  </thead>\n",
              "  <tbody>\n",
              "    <tr>\n",
              "      <th>0</th>\n",
              "      <td>None</td>\n",
              "    </tr>\n",
              "    <tr>\n",
              "      <th>1</th>\n",
              "      <td>000D2A19-24DE-442B-AD0F-E355E2F1FF51</td>\n",
              "    </tr>\n",
              "    <tr>\n",
              "      <th>2</th>\n",
              "      <td>00213ECB-8D51-4113-BAC5-38F66B254F0B</td>\n",
              "    </tr>\n",
              "    <tr>\n",
              "      <th>3</th>\n",
              "      <td>002754BB-DA6E-44F7-8A6A-6BC58750EB0B</td>\n",
              "    </tr>\n",
              "    <tr>\n",
              "      <th>4</th>\n",
              "      <td>003459A3-6803-44F2-9D56-0A071B10E90A</td>\n",
              "    </tr>\n",
              "    <tr>\n",
              "      <th>...</th>\n",
              "      <td>...</td>\n",
              "    </tr>\n",
              "    <tr>\n",
              "      <th>5330</th>\n",
              "      <td>FFC1D155-3FB6-4C59-8FEB-C127B2A7AF96</td>\n",
              "    </tr>\n",
              "    <tr>\n",
              "      <th>5331</th>\n",
              "      <td>FFD6C4B0-CF0D-44D8-958B-44D0AC33F6ED</td>\n",
              "    </tr>\n",
              "    <tr>\n",
              "      <th>5332</th>\n",
              "      <td>FFE0B35C-FD2A-4070-90C3-018195E8EB3F</td>\n",
              "    </tr>\n",
              "    <tr>\n",
              "      <th>5333</th>\n",
              "      <td>FFE0FBBC-FF1C-4E8F-8054-B138A1EB7A54</td>\n",
              "    </tr>\n",
              "    <tr>\n",
              "      <th>5334</th>\n",
              "      <td>FFE97B16-71AA-47C2-AA40-06550C41A5FA</td>\n",
              "    </tr>\n",
              "  </tbody>\n",
              "</table>\n",
              "<p>5335 rows × 1 columns</p>\n",
              "</div>"
            ],
            "text/plain": [
              "                           main_partner_id\n",
              "0                                     None\n",
              "1     000D2A19-24DE-442B-AD0F-E355E2F1FF51\n",
              "2     00213ECB-8D51-4113-BAC5-38F66B254F0B\n",
              "3     002754BB-DA6E-44F7-8A6A-6BC58750EB0B\n",
              "4     003459A3-6803-44F2-9D56-0A071B10E90A\n",
              "...                                    ...\n",
              "5330  FFC1D155-3FB6-4C59-8FEB-C127B2A7AF96\n",
              "5331  FFD6C4B0-CF0D-44D8-958B-44D0AC33F6ED\n",
              "5332  FFE0B35C-FD2A-4070-90C3-018195E8EB3F\n",
              "5333  FFE0FBBC-FF1C-4E8F-8054-B138A1EB7A54\n",
              "5334  FFE97B16-71AA-47C2-AA40-06550C41A5FA\n",
              "\n",
              "[5335 rows x 1 columns]"
            ]
          },
          "metadata": {
            "tags": []
          },
          "execution_count": 236
        }
      ]
    },
    {
      "cell_type": "code",
      "metadata": {
        "id": "jaVfL24wbC1m",
        "colab": {
          "base_uri": "https://localhost:8080/",
          "height": 419
        },
        "outputId": "6f1b2822-bd4c-4bff-e137-d6c1ccf3b4a4"
      },
      "source": [
        "cursor.execute(\"\"\"SELECT DISTINCT depart_partner_id FROM users_market_depart\"\"\")\r\n",
        "df = cursor.fetchall()\r\n",
        "pd.set_option('display.max_rows', 10)\r\n",
        "pd.DataFrame(df)"
      ],
      "execution_count": null,
      "outputs": [
        {
          "output_type": "execute_result",
          "data": {
            "text/html": [
              "<div>\n",
              "<style scoped>\n",
              "    .dataframe tbody tr th:only-of-type {\n",
              "        vertical-align: middle;\n",
              "    }\n",
              "\n",
              "    .dataframe tbody tr th {\n",
              "        vertical-align: top;\n",
              "    }\n",
              "\n",
              "    .dataframe thead th {\n",
              "        text-align: right;\n",
              "    }\n",
              "</style>\n",
              "<table border=\"1\" class=\"dataframe\">\n",
              "  <thead>\n",
              "    <tr style=\"text-align: right;\">\n",
              "      <th></th>\n",
              "      <th>depart_partner_id</th>\n",
              "    </tr>\n",
              "  </thead>\n",
              "  <tbody>\n",
              "    <tr>\n",
              "      <th>0</th>\n",
              "      <td>None</td>\n",
              "    </tr>\n",
              "    <tr>\n",
              "      <th>1</th>\n",
              "      <td>0005AF2A-EC6C-4DFB-9F4C-33C652B4EAF2</td>\n",
              "    </tr>\n",
              "    <tr>\n",
              "      <th>2</th>\n",
              "      <td>00069AE2-10B2-475F-A99F-8BAE83A600C6</td>\n",
              "    </tr>\n",
              "    <tr>\n",
              "      <th>3</th>\n",
              "      <td>000A6813-B281-4EA7-9FB3-5AB9C9E71D11</td>\n",
              "    </tr>\n",
              "    <tr>\n",
              "      <th>4</th>\n",
              "      <td>000F41EB-7FEB-4803-ACF1-C61E559C723C</td>\n",
              "    </tr>\n",
              "    <tr>\n",
              "      <th>...</th>\n",
              "      <td>...</td>\n",
              "    </tr>\n",
              "    <tr>\n",
              "      <th>18014</th>\n",
              "      <td>FFE9E23A-6381-47D9-B522-A14B23D57142</td>\n",
              "    </tr>\n",
              "    <tr>\n",
              "      <th>18015</th>\n",
              "      <td>FFEBD0C8-37FD-4193-A965-453C6A973857</td>\n",
              "    </tr>\n",
              "    <tr>\n",
              "      <th>18016</th>\n",
              "      <td>FFF04470-62B2-4C89-B59A-643AFDFF7418</td>\n",
              "    </tr>\n",
              "    <tr>\n",
              "      <th>18017</th>\n",
              "      <td>FFF856EF-B120-4490-8E7C-06C109A4EADB</td>\n",
              "    </tr>\n",
              "    <tr>\n",
              "      <th>18018</th>\n",
              "      <td>FFFE3FCB-5B01-4657-B4B8-96A82E6FAF71</td>\n",
              "    </tr>\n",
              "  </tbody>\n",
              "</table>\n",
              "<p>18019 rows × 1 columns</p>\n",
              "</div>"
            ],
            "text/plain": [
              "                          depart_partner_id\n",
              "0                                      None\n",
              "1      0005AF2A-EC6C-4DFB-9F4C-33C652B4EAF2\n",
              "2      00069AE2-10B2-475F-A99F-8BAE83A600C6\n",
              "3      000A6813-B281-4EA7-9FB3-5AB9C9E71D11\n",
              "4      000F41EB-7FEB-4803-ACF1-C61E559C723C\n",
              "...                                     ...\n",
              "18014  FFE9E23A-6381-47D9-B522-A14B23D57142\n",
              "18015  FFEBD0C8-37FD-4193-A965-453C6A973857\n",
              "18016  FFF04470-62B2-4C89-B59A-643AFDFF7418\n",
              "18017  FFF856EF-B120-4490-8E7C-06C109A4EADB\n",
              "18018  FFFE3FCB-5B01-4657-B4B8-96A82E6FAF71\n",
              "\n",
              "[18019 rows x 1 columns]"
            ]
          },
          "metadata": {
            "tags": []
          },
          "execution_count": 237
        }
      ]
    },
    {
      "cell_type": "code",
      "metadata": {
        "id": "sWmWy9jHmMFY",
        "colab": {
          "base_uri": "https://localhost:8080/",
          "height": 359
        },
        "outputId": "8dfae9b4-8fe6-4c0e-d1d1-0e0ba6d78830"
      },
      "source": [
        "cursor.execute(\"\"\"SELECT ebs_user_id FROM quiz_users LIMIT 10\"\"\")\r\n",
        "df = cursor.fetchall()\r\n",
        "pd.set_option('display.max_rows', 10)\r\n",
        "pd.DataFrame(df)"
      ],
      "execution_count": null,
      "outputs": [
        {
          "output_type": "execute_result",
          "data": {
            "text/html": [
              "<div>\n",
              "<style scoped>\n",
              "    .dataframe tbody tr th:only-of-type {\n",
              "        vertical-align: middle;\n",
              "    }\n",
              "\n",
              "    .dataframe tbody tr th {\n",
              "        vertical-align: top;\n",
              "    }\n",
              "\n",
              "    .dataframe thead th {\n",
              "        text-align: right;\n",
              "    }\n",
              "</style>\n",
              "<table border=\"1\" class=\"dataframe\">\n",
              "  <thead>\n",
              "    <tr style=\"text-align: right;\">\n",
              "      <th></th>\n",
              "      <th>ebs_user_id</th>\n",
              "    </tr>\n",
              "  </thead>\n",
              "  <tbody>\n",
              "    <tr>\n",
              "      <th>0</th>\n",
              "      <td>71116810-A5E6-4079-B31C-1A525510C543</td>\n",
              "    </tr>\n",
              "    <tr>\n",
              "      <th>1</th>\n",
              "      <td>FF403515-DC85-4920-BC65-148B36318C02</td>\n",
              "    </tr>\n",
              "    <tr>\n",
              "      <th>2</th>\n",
              "      <td>85FD103C-CEDF-4147-95EC-44A213EFD486</td>\n",
              "    </tr>\n",
              "    <tr>\n",
              "      <th>3</th>\n",
              "      <td>85FD103C-CEDF-4147-95EC-44A213EFD486</td>\n",
              "    </tr>\n",
              "    <tr>\n",
              "      <th>4</th>\n",
              "      <td>1BB890C1-02CB-403B-B4E7-6A0A129878DB</td>\n",
              "    </tr>\n",
              "    <tr>\n",
              "      <th>5</th>\n",
              "      <td>1BB890C1-02CB-403B-B4E7-6A0A129878DB</td>\n",
              "    </tr>\n",
              "    <tr>\n",
              "      <th>6</th>\n",
              "      <td>1BB890C1-02CB-403B-B4E7-6A0A129878DB</td>\n",
              "    </tr>\n",
              "    <tr>\n",
              "      <th>7</th>\n",
              "      <td>1BB890C1-02CB-403B-B4E7-6A0A129878DB</td>\n",
              "    </tr>\n",
              "    <tr>\n",
              "      <th>8</th>\n",
              "      <td>1BB890C1-02CB-403B-B4E7-6A0A129878DB</td>\n",
              "    </tr>\n",
              "    <tr>\n",
              "      <th>9</th>\n",
              "      <td>1BB890C1-02CB-403B-B4E7-6A0A129878DB</td>\n",
              "    </tr>\n",
              "  </tbody>\n",
              "</table>\n",
              "</div>"
            ],
            "text/plain": [
              "                            ebs_user_id\n",
              "0  71116810-A5E6-4079-B31C-1A525510C543\n",
              "1  FF403515-DC85-4920-BC65-148B36318C02\n",
              "2  85FD103C-CEDF-4147-95EC-44A213EFD486\n",
              "3  85FD103C-CEDF-4147-95EC-44A213EFD486\n",
              "4  1BB890C1-02CB-403B-B4E7-6A0A129878DB\n",
              "5  1BB890C1-02CB-403B-B4E7-6A0A129878DB\n",
              "6  1BB890C1-02CB-403B-B4E7-6A0A129878DB\n",
              "7  1BB890C1-02CB-403B-B4E7-6A0A129878DB\n",
              "8  1BB890C1-02CB-403B-B4E7-6A0A129878DB\n",
              "9  1BB890C1-02CB-403B-B4E7-6A0A129878DB"
            ]
          },
          "metadata": {
            "tags": []
          },
          "execution_count": 238
        }
      ]
    },
    {
      "cell_type": "code",
      "metadata": {
        "id": "meYNaZsZm44Z",
        "colab": {
          "base_uri": "https://localhost:8080/",
          "height": 80
        },
        "outputId": "c1307e2f-c321-4c05-9af0-e0d03a027c42"
      },
      "source": [
        "cursor.execute(\"\"\"SELECT quiz_id FROM quiz_users \r\n",
        "                WHERE ebs_user_id = 'FF403515-DC85-4920-BC65-148B36318C02'\"\"\")\r\n",
        "df = cursor.fetchall()\r\n",
        "pd.set_option('display.max_rows', 10)\r\n",
        "pd.DataFrame(df)"
      ],
      "execution_count": null,
      "outputs": [
        {
          "output_type": "execute_result",
          "data": {
            "text/html": [
              "<div>\n",
              "<style scoped>\n",
              "    .dataframe tbody tr th:only-of-type {\n",
              "        vertical-align: middle;\n",
              "    }\n",
              "\n",
              "    .dataframe tbody tr th {\n",
              "        vertical-align: top;\n",
              "    }\n",
              "\n",
              "    .dataframe thead th {\n",
              "        text-align: right;\n",
              "    }\n",
              "</style>\n",
              "<table border=\"1\" class=\"dataframe\">\n",
              "  <thead>\n",
              "    <tr style=\"text-align: right;\">\n",
              "      <th></th>\n",
              "      <th>quiz_id</th>\n",
              "    </tr>\n",
              "  </thead>\n",
              "  <tbody>\n",
              "    <tr>\n",
              "      <th>0</th>\n",
              "      <td>867361CE-0FA5-4031-92C0-A33760330AAC</td>\n",
              "    </tr>\n",
              "  </tbody>\n",
              "</table>\n",
              "</div>"
            ],
            "text/plain": [
              "                                quiz_id\n",
              "0  867361CE-0FA5-4031-92C0-A33760330AAC"
            ]
          },
          "metadata": {
            "tags": []
          },
          "execution_count": 239
        }
      ]
    },
    {
      "cell_type": "code",
      "metadata": {
        "id": "N-iGpIPttcGw",
        "colab": {
          "base_uri": "https://localhost:8080/",
          "height": 359
        },
        "outputId": "68a07520-8927-4214-f359-c31577cdec90"
      },
      "source": [
        "cursor.execute(\"\"\"SELECT DISTINCT reader_id FROM new_stats LIMIT 10\"\"\")\r\n",
        "df = cursor.fetchall()\r\n",
        "pd.set_option('display.max_rows', 10)\r\n",
        "pd.DataFrame(df)"
      ],
      "execution_count": null,
      "outputs": [
        {
          "output_type": "execute_result",
          "data": {
            "text/html": [
              "<div>\n",
              "<style scoped>\n",
              "    .dataframe tbody tr th:only-of-type {\n",
              "        vertical-align: middle;\n",
              "    }\n",
              "\n",
              "    .dataframe tbody tr th {\n",
              "        vertical-align: top;\n",
              "    }\n",
              "\n",
              "    .dataframe thead th {\n",
              "        text-align: right;\n",
              "    }\n",
              "</style>\n",
              "<table border=\"1\" class=\"dataframe\">\n",
              "  <thead>\n",
              "    <tr style=\"text-align: right;\">\n",
              "      <th></th>\n",
              "      <th>reader_id</th>\n",
              "    </tr>\n",
              "  </thead>\n",
              "  <tbody>\n",
              "    <tr>\n",
              "      <th>0</th>\n",
              "      <td>00001BC6-FAC0-44CA-B2B5-B76ABBCF130F</td>\n",
              "    </tr>\n",
              "    <tr>\n",
              "      <th>1</th>\n",
              "      <td>00003052-D3BC-4965-9239-3BEE91FED0A1</td>\n",
              "    </tr>\n",
              "    <tr>\n",
              "      <th>2</th>\n",
              "      <td>00007AA8-AA94-4ECC-8302-589C57F28232</td>\n",
              "    </tr>\n",
              "    <tr>\n",
              "      <th>3</th>\n",
              "      <td>00007F8B-D3F1-45E5-87BC-8474A06A1513</td>\n",
              "    </tr>\n",
              "    <tr>\n",
              "      <th>4</th>\n",
              "      <td>0000A335-29AB-45C2-9C23-F7FE252A1A51</td>\n",
              "    </tr>\n",
              "    <tr>\n",
              "      <th>5</th>\n",
              "      <td>0000B844-1164-4C50-8C5F-4728A13CF7A1</td>\n",
              "    </tr>\n",
              "    <tr>\n",
              "      <th>6</th>\n",
              "      <td>0000F1DE-F492-4666-B260-791755DD45D0</td>\n",
              "    </tr>\n",
              "    <tr>\n",
              "      <th>7</th>\n",
              "      <td>00010DE8-1705-4275-B121-7A74C6579BDD</td>\n",
              "    </tr>\n",
              "    <tr>\n",
              "      <th>8</th>\n",
              "      <td>0001448B-E632-4EA4-B9E3-F8121B4C8512</td>\n",
              "    </tr>\n",
              "    <tr>\n",
              "      <th>9</th>\n",
              "      <td>00016EEF-0167-4807-8FF5-82CCE835499C</td>\n",
              "    </tr>\n",
              "  </tbody>\n",
              "</table>\n",
              "</div>"
            ],
            "text/plain": [
              "                              reader_id\n",
              "0  00001BC6-FAC0-44CA-B2B5-B76ABBCF130F\n",
              "1  00003052-D3BC-4965-9239-3BEE91FED0A1\n",
              "2  00007AA8-AA94-4ECC-8302-589C57F28232\n",
              "3  00007F8B-D3F1-45E5-87BC-8474A06A1513\n",
              "4  0000A335-29AB-45C2-9C23-F7FE252A1A51\n",
              "5  0000B844-1164-4C50-8C5F-4728A13CF7A1\n",
              "6  0000F1DE-F492-4666-B260-791755DD45D0\n",
              "7  00010DE8-1705-4275-B121-7A74C6579BDD\n",
              "8  0001448B-E632-4EA4-B9E3-F8121B4C8512\n",
              "9  00016EEF-0167-4807-8FF5-82CCE835499C"
            ]
          },
          "metadata": {
            "tags": []
          },
          "execution_count": 240
        }
      ]
    },
    {
      "cell_type": "code",
      "metadata": {
        "id": "mm1wohYutbRx",
        "colab": {
          "base_uri": "https://localhost:8080/",
          "height": 328
        },
        "outputId": "edab1e97-61fb-4192-f555-1bc2708ded73"
      },
      "source": [
        "cursor.execute(\"\"\"SELECT DISTINCT content_id FROM new_stats \r\n",
        "                WHERE reader_id = '00003052-D3BC-4965-9239-3BEE91FED0A1'\"\"\")\r\n",
        "df = cursor.fetchall()\r\n",
        "pd.set_option('display.max_rows', 10)\r\n",
        "pd.DataFrame(df)"
      ],
      "execution_count": null,
      "outputs": [
        {
          "output_type": "execute_result",
          "data": {
            "text/html": [
              "<div>\n",
              "<style scoped>\n",
              "    .dataframe tbody tr th:only-of-type {\n",
              "        vertical-align: middle;\n",
              "    }\n",
              "\n",
              "    .dataframe tbody tr th {\n",
              "        vertical-align: top;\n",
              "    }\n",
              "\n",
              "    .dataframe thead th {\n",
              "        text-align: right;\n",
              "    }\n",
              "</style>\n",
              "<table border=\"1\" class=\"dataframe\">\n",
              "  <thead>\n",
              "    <tr style=\"text-align: right;\">\n",
              "      <th></th>\n",
              "      <th>content_id</th>\n",
              "    </tr>\n",
              "  </thead>\n",
              "  <tbody>\n",
              "    <tr>\n",
              "      <th>0</th>\n",
              "      <td>671098D1-D1B6-49BC-B87D-E2C46DE986EB</td>\n",
              "    </tr>\n",
              "    <tr>\n",
              "      <th>1</th>\n",
              "      <td>CF1CBCEB-256E-41D5-869D-5154C6E2EFAB</td>\n",
              "    </tr>\n",
              "    <tr>\n",
              "      <th>2</th>\n",
              "      <td>A9473610-9871-4DC1-B59A-F2A9CB078EE9</td>\n",
              "    </tr>\n",
              "    <tr>\n",
              "      <th>3</th>\n",
              "      <td>E4D984D7-C8E2-419E-A1E9-A49F2F0201EE</td>\n",
              "    </tr>\n",
              "    <tr>\n",
              "      <th>4</th>\n",
              "      <td>AA6DD61A-4578-4D32-891E-B6682DB21B61</td>\n",
              "    </tr>\n",
              "    <tr>\n",
              "      <th>5</th>\n",
              "      <td>E99D29EA-0768-4A97-8E3E-DCB57C9C636C</td>\n",
              "    </tr>\n",
              "    <tr>\n",
              "      <th>6</th>\n",
              "      <td>B591CFC9-B147-44A6-B831-049048161685</td>\n",
              "    </tr>\n",
              "    <tr>\n",
              "      <th>7</th>\n",
              "      <td>8BF06045-3DB4-44B9-8468-0A022B2DEFDF</td>\n",
              "    </tr>\n",
              "    <tr>\n",
              "      <th>8</th>\n",
              "      <td>F9B6FA70-377F-42DE-B17A-A8FC0CAC4177</td>\n",
              "    </tr>\n",
              "  </tbody>\n",
              "</table>\n",
              "</div>"
            ],
            "text/plain": [
              "                             content_id\n",
              "0  671098D1-D1B6-49BC-B87D-E2C46DE986EB\n",
              "1  CF1CBCEB-256E-41D5-869D-5154C6E2EFAB\n",
              "2  A9473610-9871-4DC1-B59A-F2A9CB078EE9\n",
              "3  E4D984D7-C8E2-419E-A1E9-A49F2F0201EE\n",
              "4  AA6DD61A-4578-4D32-891E-B6682DB21B61\n",
              "5  E99D29EA-0768-4A97-8E3E-DCB57C9C636C\n",
              "6  B591CFC9-B147-44A6-B831-049048161685\n",
              "7  8BF06045-3DB4-44B9-8468-0A022B2DEFDF\n",
              "8  F9B6FA70-377F-42DE-B17A-A8FC0CAC4177"
            ]
          },
          "metadata": {
            "tags": []
          },
          "execution_count": 241
        }
      ]
    },
    {
      "cell_type": "code",
      "metadata": {
        "id": "JXC26I2t2U4Z",
        "colab": {
          "base_uri": "https://localhost:8080/",
          "height": 419
        },
        "outputId": "ec92e5a3-e021-4af8-9ded-5b243b40eeb4"
      },
      "source": [
        "cursor.execute(\"\"\"SELECT DISTINCT course_id FROM courses\"\"\")\r\n",
        "df = cursor.fetchall()\r\n",
        "pd.set_option('display.max_rows', 10)\r\n",
        "pd.DataFrame(df)"
      ],
      "execution_count": null,
      "outputs": [
        {
          "output_type": "execute_result",
          "data": {
            "text/html": [
              "<div>\n",
              "<style scoped>\n",
              "    .dataframe tbody tr th:only-of-type {\n",
              "        vertical-align: middle;\n",
              "    }\n",
              "\n",
              "    .dataframe tbody tr th {\n",
              "        vertical-align: top;\n",
              "    }\n",
              "\n",
              "    .dataframe thead th {\n",
              "        text-align: right;\n",
              "    }\n",
              "</style>\n",
              "<table border=\"1\" class=\"dataframe\">\n",
              "  <thead>\n",
              "    <tr style=\"text-align: right;\">\n",
              "      <th></th>\n",
              "      <th>course_id</th>\n",
              "    </tr>\n",
              "  </thead>\n",
              "  <tbody>\n",
              "    <tr>\n",
              "      <th>0</th>\n",
              "      <td>0007A73E-B577-4928-A044-8295D9B119EC</td>\n",
              "    </tr>\n",
              "    <tr>\n",
              "      <th>1</th>\n",
              "      <td>0010383D-76D2-4936-97C6-BA42E2DAAF57</td>\n",
              "    </tr>\n",
              "    <tr>\n",
              "      <th>2</th>\n",
              "      <td>001FC87A-12DB-493A-BA97-FA37B2EC9FCF</td>\n",
              "    </tr>\n",
              "    <tr>\n",
              "      <th>3</th>\n",
              "      <td>003DBB53-CFAB-4D00-BD5D-D13AC9004FC6</td>\n",
              "    </tr>\n",
              "    <tr>\n",
              "      <th>4</th>\n",
              "      <td>005DDF2C-21FD-4565-BE54-A2969B4A966C</td>\n",
              "    </tr>\n",
              "    <tr>\n",
              "      <th>...</th>\n",
              "      <td>...</td>\n",
              "    </tr>\n",
              "    <tr>\n",
              "      <th>11032</th>\n",
              "      <td>FF56E6D9-E398-4F73-8E37-757145393477</td>\n",
              "    </tr>\n",
              "    <tr>\n",
              "      <th>11033</th>\n",
              "      <td>FF63268C-0081-4731-B599-57B1A5247C0B</td>\n",
              "    </tr>\n",
              "    <tr>\n",
              "      <th>11034</th>\n",
              "      <td>FF70764D-1BCF-46B9-BC54-F7325A368FCF</td>\n",
              "    </tr>\n",
              "    <tr>\n",
              "      <th>11035</th>\n",
              "      <td>FF79337F-84D9-41D7-A3F3-854B0D5140E0</td>\n",
              "    </tr>\n",
              "    <tr>\n",
              "      <th>11036</th>\n",
              "      <td>FFC6D037-663F-4B48-A937-3F59622A3BE2</td>\n",
              "    </tr>\n",
              "  </tbody>\n",
              "</table>\n",
              "<p>11037 rows × 1 columns</p>\n",
              "</div>"
            ],
            "text/plain": [
              "                                  course_id\n",
              "0      0007A73E-B577-4928-A044-8295D9B119EC\n",
              "1      0010383D-76D2-4936-97C6-BA42E2DAAF57\n",
              "2      001FC87A-12DB-493A-BA97-FA37B2EC9FCF\n",
              "3      003DBB53-CFAB-4D00-BD5D-D13AC9004FC6\n",
              "4      005DDF2C-21FD-4565-BE54-A2969B4A966C\n",
              "...                                     ...\n",
              "11032  FF56E6D9-E398-4F73-8E37-757145393477\n",
              "11033  FF63268C-0081-4731-B599-57B1A5247C0B\n",
              "11034  FF70764D-1BCF-46B9-BC54-F7325A368FCF\n",
              "11035  FF79337F-84D9-41D7-A3F3-854B0D5140E0\n",
              "11036  FFC6D037-663F-4B48-A937-3F59622A3BE2\n",
              "\n",
              "[11037 rows x 1 columns]"
            ]
          },
          "metadata": {
            "tags": []
          },
          "execution_count": 242
        }
      ]
    },
    {
      "cell_type": "code",
      "metadata": {
        "id": "J2dUG7sz29ER",
        "colab": {
          "base_uri": "https://localhost:8080/",
          "height": 80
        },
        "outputId": "ef70265c-2a29-440b-b90c-aefeacd13fce"
      },
      "source": [
        "cursor.execute(\"\"\"SELECT quiz_id FROM quiz_users \r\n",
        "                WHERE ebs_user_id = 'FF403515-DC85-4920-BC65-148B36318C02'\"\"\")\r\n",
        "df = cursor.fetchall()\r\n",
        "pd.set_option('display.max_rows', 10)\r\n",
        "pd.DataFrame(df)"
      ],
      "execution_count": null,
      "outputs": [
        {
          "output_type": "execute_result",
          "data": {
            "text/html": [
              "<div>\n",
              "<style scoped>\n",
              "    .dataframe tbody tr th:only-of-type {\n",
              "        vertical-align: middle;\n",
              "    }\n",
              "\n",
              "    .dataframe tbody tr th {\n",
              "        vertical-align: top;\n",
              "    }\n",
              "\n",
              "    .dataframe thead th {\n",
              "        text-align: right;\n",
              "    }\n",
              "</style>\n",
              "<table border=\"1\" class=\"dataframe\">\n",
              "  <thead>\n",
              "    <tr style=\"text-align: right;\">\n",
              "      <th></th>\n",
              "      <th>quiz_id</th>\n",
              "    </tr>\n",
              "  </thead>\n",
              "  <tbody>\n",
              "    <tr>\n",
              "      <th>0</th>\n",
              "      <td>867361CE-0FA5-4031-92C0-A33760330AAC</td>\n",
              "    </tr>\n",
              "  </tbody>\n",
              "</table>\n",
              "</div>"
            ],
            "text/plain": [
              "                                quiz_id\n",
              "0  867361CE-0FA5-4031-92C0-A33760330AAC"
            ]
          },
          "metadata": {
            "tags": []
          },
          "execution_count": 243
        }
      ]
    },
    {
      "cell_type": "code",
      "metadata": {
        "id": "38fRBn_Z3RLI",
        "colab": {
          "base_uri": "https://localhost:8080/",
          "height": 419
        },
        "outputId": "12b63d59-7467-4de6-992a-1b2b1c67f583"
      },
      "source": [
        "cursor.execute(\"\"\"SELECT DISTINCT ebs_user_id FROM quiz_users WHERE quiz_id != 'None' LIMIT 15\"\"\")\r\n",
        "df = cursor.fetchall()\r\n",
        "pd.DataFrame(df)"
      ],
      "execution_count": null,
      "outputs": [
        {
          "output_type": "execute_result",
          "data": {
            "text/html": [
              "<div>\n",
              "<style scoped>\n",
              "    .dataframe tbody tr th:only-of-type {\n",
              "        vertical-align: middle;\n",
              "    }\n",
              "\n",
              "    .dataframe tbody tr th {\n",
              "        vertical-align: top;\n",
              "    }\n",
              "\n",
              "    .dataframe thead th {\n",
              "        text-align: right;\n",
              "    }\n",
              "</style>\n",
              "<table border=\"1\" class=\"dataframe\">\n",
              "  <thead>\n",
              "    <tr style=\"text-align: right;\">\n",
              "      <th></th>\n",
              "      <th>ebs_user_id</th>\n",
              "    </tr>\n",
              "  </thead>\n",
              "  <tbody>\n",
              "    <tr>\n",
              "      <th>0</th>\n",
              "      <td>71116810-A5E6-4079-B31C-1A525510C543</td>\n",
              "    </tr>\n",
              "    <tr>\n",
              "      <th>1</th>\n",
              "      <td>FF403515-DC85-4920-BC65-148B36318C02</td>\n",
              "    </tr>\n",
              "    <tr>\n",
              "      <th>2</th>\n",
              "      <td>85FD103C-CEDF-4147-95EC-44A213EFD486</td>\n",
              "    </tr>\n",
              "    <tr>\n",
              "      <th>3</th>\n",
              "      <td>1BB890C1-02CB-403B-B4E7-6A0A129878DB</td>\n",
              "    </tr>\n",
              "    <tr>\n",
              "      <th>4</th>\n",
              "      <td>F117DD49-BD02-4E3D-8021-46F0657AD359</td>\n",
              "    </tr>\n",
              "    <tr>\n",
              "      <th>...</th>\n",
              "      <td>...</td>\n",
              "    </tr>\n",
              "    <tr>\n",
              "      <th>10</th>\n",
              "      <td>B5FDCD6E-556F-442D-A437-A804B4D8CA06</td>\n",
              "    </tr>\n",
              "    <tr>\n",
              "      <th>11</th>\n",
              "      <td>ABE16580-202A-483E-A467-7E8A99082911</td>\n",
              "    </tr>\n",
              "    <tr>\n",
              "      <th>12</th>\n",
              "      <td>91E721C9-7D70-4278-9955-1709034FAF02</td>\n",
              "    </tr>\n",
              "    <tr>\n",
              "      <th>13</th>\n",
              "      <td>8C248C60-FD2F-43DC-B20E-3A745E3D8AA7</td>\n",
              "    </tr>\n",
              "    <tr>\n",
              "      <th>14</th>\n",
              "      <td>418F70E9-F84F-4CDF-A91B-727D238028ED</td>\n",
              "    </tr>\n",
              "  </tbody>\n",
              "</table>\n",
              "<p>15 rows × 1 columns</p>\n",
              "</div>"
            ],
            "text/plain": [
              "                             ebs_user_id\n",
              "0   71116810-A5E6-4079-B31C-1A525510C543\n",
              "1   FF403515-DC85-4920-BC65-148B36318C02\n",
              "2   85FD103C-CEDF-4147-95EC-44A213EFD486\n",
              "3   1BB890C1-02CB-403B-B4E7-6A0A129878DB\n",
              "4   F117DD49-BD02-4E3D-8021-46F0657AD359\n",
              "..                                   ...\n",
              "10  B5FDCD6E-556F-442D-A437-A804B4D8CA06\n",
              "11  ABE16580-202A-483E-A467-7E8A99082911\n",
              "12  91E721C9-7D70-4278-9955-1709034FAF02\n",
              "13  8C248C60-FD2F-43DC-B20E-3A745E3D8AA7\n",
              "14  418F70E9-F84F-4CDF-A91B-727D238028ED\n",
              "\n",
              "[15 rows x 1 columns]"
            ]
          },
          "metadata": {
            "tags": []
          },
          "execution_count": 244
        }
      ]
    },
    {
      "cell_type": "code",
      "metadata": {
        "id": "CXUzqXosA_qA",
        "colab": {
          "base_uri": "https://localhost:8080/",
          "height": 589
        },
        "outputId": "cfa94eb1-3640-4849-b326-e9ea225e6556"
      },
      "source": [
        "cursor.execute(\"\"\"SELECT * FROM quiz_users\"\"\")\r\n",
        "df = cursor.fetchall()\r\n",
        "pd.DataFrame(df)"
      ],
      "execution_count": null,
      "outputs": [
        {
          "output_type": "execute_result",
          "data": {
            "text/html": [
              "<div>\n",
              "<style scoped>\n",
              "    .dataframe tbody tr th:only-of-type {\n",
              "        vertical-align: middle;\n",
              "    }\n",
              "\n",
              "    .dataframe tbody tr th {\n",
              "        vertical-align: top;\n",
              "    }\n",
              "\n",
              "    .dataframe thead th {\n",
              "        text-align: right;\n",
              "    }\n",
              "</style>\n",
              "<table border=\"1\" class=\"dataframe\">\n",
              "  <thead>\n",
              "    <tr style=\"text-align: right;\">\n",
              "      <th></th>\n",
              "      <th>quiz_user_id</th>\n",
              "      <th>ebs_user_id</th>\n",
              "      <th>quiz_id</th>\n",
              "      <th>subject_id</th>\n",
              "      <th>course_element_id</th>\n",
              "      <th>score</th>\n",
              "      <th>total_score</th>\n",
              "      <th>create_at</th>\n",
              "      <th>finish_at</th>\n",
              "    </tr>\n",
              "  </thead>\n",
              "  <tbody>\n",
              "    <tr>\n",
              "      <th>0</th>\n",
              "      <td>2</td>\n",
              "      <td>71116810-A5E6-4079-B31C-1A525510C543</td>\n",
              "      <td>8F284EC6-E47E-4036-BF98-D4CC128610EB</td>\n",
              "      <td>None</td>\n",
              "      <td>NaN</td>\n",
              "      <td>0.0</td>\n",
              "      <td>2</td>\n",
              "      <td>2018-07-03 13:09:59</td>\n",
              "      <td>2018-07-03 13:10:10</td>\n",
              "    </tr>\n",
              "    <tr>\n",
              "      <th>1</th>\n",
              "      <td>3</td>\n",
              "      <td>FF403515-DC85-4920-BC65-148B36318C02</td>\n",
              "      <td>867361CE-0FA5-4031-92C0-A33760330AAC</td>\n",
              "      <td>None</td>\n",
              "      <td>NaN</td>\n",
              "      <td>7.0</td>\n",
              "      <td>15</td>\n",
              "      <td>2018-07-03 15:17:25</td>\n",
              "      <td>2018-07-03 15:18:07</td>\n",
              "    </tr>\n",
              "    <tr>\n",
              "      <th>2</th>\n",
              "      <td>4</td>\n",
              "      <td>85FD103C-CEDF-4147-95EC-44A213EFD486</td>\n",
              "      <td>F2FBB5AD-3ECD-45BE-9310-A7EBD93434DC</td>\n",
              "      <td>None</td>\n",
              "      <td>NaN</td>\n",
              "      <td>3.0</td>\n",
              "      <td>3</td>\n",
              "      <td>2018-07-04 15:34:45</td>\n",
              "      <td>2018-07-04 15:34:47</td>\n",
              "    </tr>\n",
              "    <tr>\n",
              "      <th>3</th>\n",
              "      <td>5</td>\n",
              "      <td>85FD103C-CEDF-4147-95EC-44A213EFD486</td>\n",
              "      <td>802B0C3D-4B45-4730-B2EA-FFF7E47C56C2</td>\n",
              "      <td>None</td>\n",
              "      <td>NaN</td>\n",
              "      <td>3.0</td>\n",
              "      <td>3</td>\n",
              "      <td>2018-07-04 15:35:59</td>\n",
              "      <td>2018-07-04 15:36:01</td>\n",
              "    </tr>\n",
              "    <tr>\n",
              "      <th>4</th>\n",
              "      <td>7</td>\n",
              "      <td>1BB890C1-02CB-403B-B4E7-6A0A129878DB</td>\n",
              "      <td>5638397C-5030-47C8-8F02-E100E88E6FD2</td>\n",
              "      <td>None</td>\n",
              "      <td>NaN</td>\n",
              "      <td>NaN</td>\n",
              "      <td>16</td>\n",
              "      <td>2018-08-28 14:48:42</td>\n",
              "      <td>NaT</td>\n",
              "    </tr>\n",
              "    <tr>\n",
              "      <th>...</th>\n",
              "      <td>...</td>\n",
              "      <td>...</td>\n",
              "      <td>...</td>\n",
              "      <td>...</td>\n",
              "      <td>...</td>\n",
              "      <td>...</td>\n",
              "      <td>...</td>\n",
              "      <td>...</td>\n",
              "      <td>...</td>\n",
              "    </tr>\n",
              "    <tr>\n",
              "      <th>356980</th>\n",
              "      <td>357107</td>\n",
              "      <td>9F4CFAE8-E0FA-4CBC-842A-4C44BAA4FAA9</td>\n",
              "      <td>D4067667-BF50-4B2D-BA68-38EB5CDC3F9F</td>\n",
              "      <td>A9CF3C10-F999-40C6-8B64-EAE4DF634DF0</td>\n",
              "      <td>59722.0</td>\n",
              "      <td>8.0</td>\n",
              "      <td>8</td>\n",
              "      <td>2020-09-21 01:09:25</td>\n",
              "      <td>2020-09-21 01:13:17</td>\n",
              "    </tr>\n",
              "    <tr>\n",
              "      <th>356981</th>\n",
              "      <td>357108</td>\n",
              "      <td>15E03AD6-E731-4EEF-A45A-C8AB0B5ADC3C</td>\n",
              "      <td>6DCD0DF8-CCD9-4464-B845-1E0EF0BB7165</td>\n",
              "      <td>D1B72C75-847A-4743-B4C0-7A7B1C290B51</td>\n",
              "      <td>NaN</td>\n",
              "      <td>9.0</td>\n",
              "      <td>9</td>\n",
              "      <td>2020-09-21 01:10:13</td>\n",
              "      <td>2020-09-21 01:12:58</td>\n",
              "    </tr>\n",
              "    <tr>\n",
              "      <th>356982</th>\n",
              "      <td>357109</td>\n",
              "      <td>15E03AD6-E731-4EEF-A45A-C8AB0B5ADC3C</td>\n",
              "      <td>B098B01B-E6E7-4D00-8F3A-1666B33015E3</td>\n",
              "      <td>3E35CEAA-9232-4C5D-A041-0074BE598855</td>\n",
              "      <td>NaN</td>\n",
              "      <td>2.0</td>\n",
              "      <td>3</td>\n",
              "      <td>2020-09-21 01:11:58</td>\n",
              "      <td>2020-09-21 01:16:15</td>\n",
              "    </tr>\n",
              "    <tr>\n",
              "      <th>356983</th>\n",
              "      <td>357110</td>\n",
              "      <td>15E03AD6-E731-4EEF-A45A-C8AB0B5ADC3C</td>\n",
              "      <td>B098B01B-E6E7-4D00-8F3A-1666B33015E3</td>\n",
              "      <td>3E35CEAA-9232-4C5D-A041-0074BE598855</td>\n",
              "      <td>NaN</td>\n",
              "      <td>2.0</td>\n",
              "      <td>3</td>\n",
              "      <td>2020-09-21 01:14:45</td>\n",
              "      <td>2020-09-21 01:16:42</td>\n",
              "    </tr>\n",
              "    <tr>\n",
              "      <th>356984</th>\n",
              "      <td>357111</td>\n",
              "      <td>69731169-C751-406E-BA64-986CA8961609</td>\n",
              "      <td>2F0B50B8-9AF6-4523-AB56-251A372A39C6</td>\n",
              "      <td>610895B4-CFF2-406E-B6DF-A28462E486F9</td>\n",
              "      <td>NaN</td>\n",
              "      <td>NaN</td>\n",
              "      <td>20</td>\n",
              "      <td>2020-09-21 01:20:23</td>\n",
              "      <td>NaT</td>\n",
              "    </tr>\n",
              "  </tbody>\n",
              "</table>\n",
              "<p>356985 rows × 9 columns</p>\n",
              "</div>"
            ],
            "text/plain": [
              "        quiz_user_id  ...           finish_at\n",
              "0                  2  ... 2018-07-03 13:10:10\n",
              "1                  3  ... 2018-07-03 15:18:07\n",
              "2                  4  ... 2018-07-04 15:34:47\n",
              "3                  5  ... 2018-07-04 15:36:01\n",
              "4                  7  ...                 NaT\n",
              "...              ...  ...                 ...\n",
              "356980        357107  ... 2020-09-21 01:13:17\n",
              "356981        357108  ... 2020-09-21 01:12:58\n",
              "356982        357109  ... 2020-09-21 01:16:15\n",
              "356983        357110  ... 2020-09-21 01:16:42\n",
              "356984        357111  ...                 NaT\n",
              "\n",
              "[356985 rows x 9 columns]"
            ]
          },
          "metadata": {
            "tags": []
          },
          "execution_count": 245
        }
      ]
    },
    {
      "cell_type": "markdown",
      "metadata": {
        "id": "x5U6TsEvUglZ"
      },
      "source": [
        "## Методы"
      ]
    },
    {
      "cell_type": "markdown",
      "metadata": {
        "id": "8n40wobrE7Sn"
      },
      "source": [
        "###Получение ID всех пользователей в данном регионе\n",
        "\n",
        "*   Новый пункт\n",
        "*   Новый пункт\n",
        "\n"
      ]
    },
    {
      "cell_type": "code",
      "metadata": {
        "id": "bIt9Weh34vHl"
      },
      "source": [
        "def getUsersByRegionCode(region = int):\n",
        "  cursor.execute(f\"\"\"SELECT * FROM users_market_depart \n",
        "                  WHERE main_partner_id IN (SELECT partner_id FROM Partners \n",
        "                      WHERE town_id IN (SELECT town_id FROM Towns \n",
        "                          WHERE reg_kod IN (SELECT reg_kod FROM Regions \n",
        "                              WHERE reg_kod = {region})))\"\"\")\n",
        "  return cursor.fetchall()"
      ],
      "execution_count": null,
      "outputs": []
    },
    {
      "cell_type": "markdown",
      "metadata": {
        "id": "TN8w_TZvFSm8"
      },
      "source": [
        "###Получение ID всех пользователей в данном городе\n",
        "\n",
        "*   Новый пункт\n",
        "*   Новый пункт\n",
        "\n"
      ]
    },
    {
      "cell_type": "code",
      "metadata": {
        "id": "VfrBIDL4Rt0n"
      },
      "source": [
        "def getUsersByTownId(town = int):\r\n",
        "  cursor.execute(f\"\"\"SELECT * FROM users_market_depart \r\n",
        "                  WHERE main_partner_id IN (SELECT partner_id FROM Partners \r\n",
        "                      WHERE town_id = {town})\"\"\")\r\n",
        "  return cursor.fetchall()"
      ],
      "execution_count": null,
      "outputs": []
    },
    {
      "cell_type": "markdown",
      "metadata": {
        "id": "6Z9kz9-wFcN9"
      },
      "source": [
        "###Получение ID всех пользователей в данном универе"
      ]
    },
    {
      "cell_type": "code",
      "metadata": {
        "id": "dgDkHAh4VhHx"
      },
      "source": [
        "def getUsersByMainPartnerId(partner = str):\r\n",
        "  cursor.execute(f\"\"\"SELECT * FROM users_market_depart\r\n",
        "                  WHERE main_partner_id = '{partner}'\"\"\")\r\n",
        "  return cursor.fetchall()"
      ],
      "execution_count": null,
      "outputs": []
    },
    {
      "cell_type": "markdown",
      "metadata": {
        "id": "AoMbXVuCFo4T"
      },
      "source": [
        "###Получение ID всех пользователей на данном факультете"
      ]
    },
    {
      "cell_type": "code",
      "metadata": {
        "id": "Qc5Iidp_YFdw"
      },
      "source": [
        "def getUsersByDepartPartnerId(partner = str):\r\n",
        "  cursor.execute(f\"\"\"SELECT * FROM users_market_depart\r\n",
        "                  WHERE depart_partner_id = '{partner}'\"\"\")\r\n",
        "  return cursor.fetchall()"
      ],
      "execution_count": null,
      "outputs": []
    },
    {
      "cell_type": "markdown",
      "metadata": {
        "id": "jYF1TUCQFuK1"
      },
      "source": [
        "###Получение времени и кол-ва страниц, которые прочитал данный пользователь"
      ]
    },
    {
      "cell_type": "code",
      "metadata": {
        "id": "63SfQ6XA0tvI"
      },
      "source": [
        "def getReadingTimeAndPagesCount(studentId = str, courseId = None):\r\n",
        "  totalTime = 0\r\n",
        "  totalPages = 0\r\n",
        "\r\n",
        "  if courseId == None:\r\n",
        "    cursor.execute(f\"\"\"SELECT dateofviewing, closedate, first_page, last_page FROM new_stats \r\n",
        "                    WHERE reader_id = '{studentId}'\"\"\")\r\n",
        "  else:\r\n",
        "    cursor.execute(f\"\"\"SELECT dateofviewing, closedate, first_page, last_page FROM new_stats \r\n",
        "                    WHERE reader_id = '{studentId}' AND content_id = '{courseId}'\"\"\")\r\n",
        "    \r\n",
        "  readingData = cursor.fetchall()\r\n",
        "  for record in readingData:\r\n",
        "    if readingData[0]['closedate'] != None and readingData[0]['dateofviewing'] != None:\r\n",
        "      totalTime += (readingData[0]['closedate'] - readingData[0]['dateofviewing']).seconds\r\n",
        "    totalPages += readingData[0]['last_page'] - readingData[0]['first_page']\r\n",
        "  if totalTime > 0 and totalPages > 0:\r\n",
        "    return totalTime/totalPages\r\n",
        "  else:\r\n",
        "      return None"
      ],
      "execution_count": null,
      "outputs": []
    },
    {
      "cell_type": "markdown",
      "metadata": {
        "id": "6ocxCTp9Vsio"
      },
      "source": [
        "### Получение количества цитат + закладок по курсу"
      ]
    },
    {
      "cell_type": "code",
      "metadata": {
        "id": "X61FRaNuHXAg"
      },
      "source": [
        "def getBookmarksCount(studentId = str, courseId = None):\r\n",
        "    if courseId == None:\r\n",
        "        cursor.execute(f\"\"\"SELECT * FROM bookmarks WHERE user_id = '{studentId}'\"\"\")\r\n",
        "    else:\r\n",
        "        cursor.execute(f\"\"\"SELECT * FROM bookmarks WHERE user_id = '{studentId}' AND content_id = '{courseId}'\"\"\")\r\n",
        "    \r\n",
        "    bookmarks = cursor.fetchall()\r\n",
        "    if(bookmarks != None): return len(bookmarks)\r\n",
        "    else: return None"
      ],
      "execution_count": null,
      "outputs": []
    },
    {
      "cell_type": "markdown",
      "metadata": {
        "id": "yO4qj_2RV57x"
      },
      "source": [
        "### Получить время просмотра и прослушивания материалов"
      ]
    },
    {
      "cell_type": "code",
      "metadata": {
        "id": "bSdNGZXgEoJB"
      },
      "source": [
        "def getTimeViewingAndListeningMaterials(studentId = str, courseId = None):\r\n",
        "    totalTime = 0\r\n",
        "    materials1 = None\r\n",
        "    materials2 = None\r\n",
        "\r\n",
        "    if courseId == None:\r\n",
        "        cursor.execute(f\"\"\"SELECT source_start, source_end FROM materials\r\n",
        "                        WHERE material_id IN (SELECT material_id FROM material_stats \r\n",
        "                            WHERE viewer_id = '{studentId}')\"\"\")\r\n",
        "        materials1 = cursor.fetchall()\r\n",
        "\r\n",
        "        cursor.execute(f\"\"\"SELECT dateofviewing, close_date FROM material_stats\r\n",
        "                        WHERE viewer_id = '{studentId}'\"\"\")\r\n",
        "        materials2 = cursor.fetchall()\r\n",
        "\r\n",
        "    else:\r\n",
        "      cursor.execute(f\"\"\"SELECT source_start, source_end FROM materials\r\n",
        "                        WHERE material_id IN (SELECT material_id FROM material_stats \r\n",
        "                            WHERE viewer_id = '{studentId}' AND content_id = '{courseId}')\"\"\")\r\n",
        "      materials1 = cursor.fetchall()\r\n",
        "\r\n",
        "      cursor.execute(f\"\"\"SELECT dateofviewing, close_date FROM material_stats\r\n",
        "                        WHERE viewer_id = '{studentId}' AND content_id = '{courseId}'\"\"\")\r\n",
        "      materials2 = cursor.fetchall()\r\n",
        "    materials1 = cursor.fetchall()\r\n",
        "    for record in materials1:\r\n",
        "        if len(materials1) > 0 and materials1[0]['source_start'] != None and materials1[0]['source_end'] != None:\r\n",
        "            totalTime += materials1[0]['source_end'] - materials1[0]['source_start']\r\n",
        "    \r\n",
        "    for record in materials2:\r\n",
        "        if len(materials2) > 0 and materials2[0]['close_date'] != None and materials2[0]['dateofviewing'] != None:\r\n",
        "            totalTime += (materials2[0]['close_date'] - materials2[0]['dateofviewing']).seconds\r\n",
        "\r\n",
        "    return totalTime"
      ],
      "execution_count": null,
      "outputs": []
    },
    {
      "cell_type": "markdown",
      "metadata": {
        "id": "7qrGS_gYWX2O"
      },
      "source": [
        "### Получить процент завершения теста"
      ]
    },
    {
      "cell_type": "code",
      "metadata": {
        "id": "KccI0bOqhibS"
      },
      "source": [
        "def getFormativeTestCompletion(studentId = str, testId = str):\r\n",
        "    cursor.execute(f\"\"\"SELECT score, total_score FROM quiz_users\r\n",
        "                    WHERE ebs_user_id = '{studentId}' AND quiz_id = '{testId}'\"\"\")\r\n",
        "    completion = cursor.fetchall()\r\n",
        "    lastTryIndex = len(completion) - 1\r\n",
        "    if lastTryIndex >= 0 and completion[lastTryIndex]['score'] != None \\\r\n",
        "                         and completion[lastTryIndex]['total_score'] != None:\r\n",
        "        return completion[lastTryIndex]['score'] \\\r\n",
        "        / completion[lastTryIndex]['total_score'] * 100"
      ],
      "execution_count": null,
      "outputs": []
    },
    {
      "cell_type": "markdown",
      "metadata": {
        "id": "jxvzYUwoWdD2"
      },
      "source": [
        "### Получить рейтинг студента (общий / в рамках курса)"
      ]
    },
    {
      "cell_type": "code",
      "metadata": {
        "id": "XJbH6PBIzbVS"
      },
      "source": [
        "def getStudentCourseRating(studentId = str, courseId = None):\r\n",
        "  result = 0\r\n",
        "  testsCount = 0\r\n",
        "\r\n",
        "  if courseId == None:\r\n",
        "    cursor.execute(f\"\"\"SELECT DISTINCT quiz_id FROM quiz_users \r\n",
        "                    WHERE ebs_user_id = '{studentId}'\"\"\")\r\n",
        "  else:\r\n",
        "    cursor.execute(f\"\"\"SELECT DISTINCT quiz_id FROM quiz_users\r\n",
        "                      WHERE ebs_user_id = '{studentId}' \r\n",
        "                        AND quiz_id IN (SELECT data_id FROM quiz_users_share\r\n",
        "                          WHERE data_id IN (SELECT course_id FROM courses\r\n",
        "                            WHERE course_id = '{courseId}'))\"\"\")\r\n",
        "  tests = cursor.fetchall()\r\n",
        "  for test in tests:\r\n",
        "    score = getFormativeTestCompletion(studentId, test['quiz_id'])\r\n",
        "    if score != None:\r\n",
        "      result += score\r\n",
        "      testsCount += 1\r\n",
        "  return result / testsCount if testsCount > 0 else 0"
      ],
      "execution_count": null,
      "outputs": []
    },
    {
      "cell_type": "markdown",
      "metadata": {
        "id": "NnRB-yUWWsD_"
      },
      "source": [
        "### Получить инфу о добавлении студента в группу препода"
      ]
    },
    {
      "cell_type": "code",
      "metadata": {
        "id": "KqN-Ie3ownr5"
      },
      "source": [
        "def getInfoAboutStudentGroup(studentId = str):\r\n",
        "    cursor.execute(f\"\"\"SELECT status FROM student_groups WHERE ebs_user_id = '{studentId}'\"\"\")\r\n",
        "\r\n",
        "    status = cursor.fetchall()\r\n",
        "    if status != []:return status[0]['status']\r\n",
        "    else: return 0"
      ],
      "execution_count": null,
      "outputs": []
    },
    {
      "cell_type": "markdown",
      "metadata": {
        "id": "6I1kISF6WyFG"
      },
      "source": [
        "### Отправил ли студент преподу результаты теста"
      ]
    },
    {
      "cell_type": "code",
      "metadata": {
        "id": "TNHxsggF2ZPD"
      },
      "source": [
        "def getInformationAboutTeacherTests(studentId = str):\r\n",
        "    cursor.execute(f\"\"\"SELECT * FROM quiz_users_share WHERE ebs_user_id = '{studentId}'\"\"\")\r\n",
        "    status = cursor.fetchall()\r\n",
        "    return len(status)"
      ],
      "execution_count": null,
      "outputs": []
    },
    {
      "cell_type": "markdown",
      "metadata": {
        "id": "fuNQTcEDXpKW"
      },
      "source": [
        "### Участвовал ли студент в вебинарах"
      ]
    },
    {
      "cell_type": "code",
      "metadata": {
        "id": "4KsqFn-hB7Dk"
      },
      "source": [
        "def getInfAboutParticipationInWebinar(studentId = str):\r\n",
        "    cursor.execute(f\"\"\"SELECT is_visited, certificate_id FROM news_event_registration \r\n",
        "                    WHERE ebs_user_id = '{studentId}'\"\"\")\r\n",
        "    visits = cursor.fetchall()\r\n",
        "\r\n",
        "    countVisits = 0\r\n",
        "    countCertificates = 0\r\n",
        "    for visit in visits:\r\n",
        "        countVisits += 1\r\n",
        "        if visit['certificate_id'] != None: countCertificates += 1\r\n",
        "\r\n",
        "    return {'countVisited': countVisits, 'countCertificates': countCertificates} \r\n"
      ],
      "execution_count": null,
      "outputs": []
    },
    {
      "cell_type": "markdown",
      "metadata": {
        "id": "MiMBbK8QXqkG"
      },
      "source": [
        "### Участвовал ли студент в конференциях"
      ]
    },
    {
      "cell_type": "code",
      "metadata": {
        "id": "y6M7O5lbJEF5"
      },
      "source": [
        "def getInfAboutParticipationInConferences(studentId = str):\r\n",
        "    cursor.execute(f\"\"\"SELECT partner_id FROM teacher_school_members \r\n",
        "                    WHERE ebs_user_id = '{studentId}'\"\"\")\r\n",
        "    \r\n",
        "    visits = cursor.fetchall()\r\n",
        "    return len(visits)"
      ],
      "execution_count": null,
      "outputs": []
    },
    {
      "cell_type": "markdown",
      "metadata": {
        "id": "x5HJfYVFudy3"
      },
      "source": [
        "###Балл за финальный экз\r\n"
      ]
    },
    {
      "cell_type": "code",
      "metadata": {
        "id": "ijX3cgCZucI7"
      },
      "source": [
        "def getFinalExamScore(studentId = str, courseId = None):\r\n",
        "    result = 0\r\n",
        "\r\n",
        "    if courseId == None: \r\n",
        "        cursor.execute(f\"\"\"SELECT score, total_score FROM final_quiz_users \r\n",
        "                    WHERE ebs_user_id = '{studentId}'\"\"\")\r\n",
        "        \r\n",
        "    else: \r\n",
        "      cursor.execute(f\"\"\"SELECT score, total_score FROM final_quiz_users \r\n",
        "                    WHERE ebs_user_id = '{studentId}' AND data_id = '{courseId}'\"\"\")\r\n",
        "    \r\n",
        "    scores = cursor.fetchall()\r\n",
        "\r\n",
        "    if scores == []: return None\r\n",
        "    for score in scores:\r\n",
        "      if score[0]['score'] != None and score[0]['total_score'] != None:\r\n",
        "        result += score[0][\"score\"] / score[0][\"total_score\"] * 100\r\n",
        "\r\n",
        "    return result"
      ],
      "execution_count": null,
      "outputs": []
    },
    {
      "cell_type": "code",
      "metadata": {
        "id": "9XR_RmBYSPGU"
      },
      "source": [
        ""
      ],
      "execution_count": null,
      "outputs": []
    },
    {
      "cell_type": "markdown",
      "metadata": {
        "id": "jenpF8qQHIba"
      },
      "source": [
        "##Тесты\r\n"
      ]
    },
    {
      "cell_type": "code",
      "metadata": {
        "id": "HQjx8WONSvPQ",
        "colab": {
          "base_uri": "https://localhost:8080/",
          "height": 419
        },
        "outputId": "e6595c5f-a136-4853-e355-9960b2edddf8"
      },
      "source": [
        "pd.set_option('display.max_rows', 10)\r\n",
        "pd.DataFrame(getUsersByTownId(20))"
      ],
      "execution_count": null,
      "outputs": [
        {
          "output_type": "execute_result",
          "data": {
            "text/html": [
              "<div>\n",
              "<style scoped>\n",
              "    .dataframe tbody tr th:only-of-type {\n",
              "        vertical-align: middle;\n",
              "    }\n",
              "\n",
              "    .dataframe tbody tr th {\n",
              "        vertical-align: top;\n",
              "    }\n",
              "\n",
              "    .dataframe thead th {\n",
              "        text-align: right;\n",
              "    }\n",
              "</style>\n",
              "<table border=\"1\" class=\"dataframe\">\n",
              "  <thead>\n",
              "    <tr style=\"text-align: right;\">\n",
              "      <th></th>\n",
              "      <th>ebs_user_id</th>\n",
              "      <th>role_id</th>\n",
              "      <th>main_fcode</th>\n",
              "      <th>depart_fcode</th>\n",
              "      <th>main_partner_id</th>\n",
              "      <th>depart_partner_id</th>\n",
              "    </tr>\n",
              "  </thead>\n",
              "  <tbody>\n",
              "    <tr>\n",
              "      <th>0</th>\n",
              "      <td>B53C9E2E-885E-4527-8435-29629E12609F</td>\n",
              "      <td>3</td>\n",
              "      <td>83521</td>\n",
              "      <td>NaN</td>\n",
              "      <td>19732D08-DDB0-472A-A808-5203E620B93F</td>\n",
              "      <td>None</td>\n",
              "    </tr>\n",
              "    <tr>\n",
              "      <th>1</th>\n",
              "      <td>70B6BB5B-3262-4AE0-A8DE-4633FBD804D2</td>\n",
              "      <td>3</td>\n",
              "      <td>83521</td>\n",
              "      <td>NaN</td>\n",
              "      <td>19732D08-DDB0-472A-A808-5203E620B93F</td>\n",
              "      <td>None</td>\n",
              "    </tr>\n",
              "    <tr>\n",
              "      <th>2</th>\n",
              "      <td>985827D1-3B5D-42AF-A3FF-5361392485EB</td>\n",
              "      <td>2</td>\n",
              "      <td>48930</td>\n",
              "      <td>41468.0</td>\n",
              "      <td>34C325E5-4348-479B-9947-6BE00EA75796</td>\n",
              "      <td>6D31D669-91BE-4CB4-BFF2-4AD6437682C9</td>\n",
              "    </tr>\n",
              "    <tr>\n",
              "      <th>3</th>\n",
              "      <td>3516C38B-B9E0-4E1E-9E69-2DA2967C9735</td>\n",
              "      <td>2</td>\n",
              "      <td>48930</td>\n",
              "      <td>41468.0</td>\n",
              "      <td>34C325E5-4348-479B-9947-6BE00EA75796</td>\n",
              "      <td>6D31D669-91BE-4CB4-BFF2-4AD6437682C9</td>\n",
              "    </tr>\n",
              "    <tr>\n",
              "      <th>4</th>\n",
              "      <td>35D1E197-B9F5-4081-8F02-33F460079B91</td>\n",
              "      <td>2</td>\n",
              "      <td>48930</td>\n",
              "      <td>41468.0</td>\n",
              "      <td>34C325E5-4348-479B-9947-6BE00EA75796</td>\n",
              "      <td>6D31D669-91BE-4CB4-BFF2-4AD6437682C9</td>\n",
              "    </tr>\n",
              "    <tr>\n",
              "      <th>...</th>\n",
              "      <td>...</td>\n",
              "      <td>...</td>\n",
              "      <td>...</td>\n",
              "      <td>...</td>\n",
              "      <td>...</td>\n",
              "      <td>...</td>\n",
              "    </tr>\n",
              "    <tr>\n",
              "      <th>2367</th>\n",
              "      <td>32DECCBE-C03F-424C-9351-4D69F8825EE2</td>\n",
              "      <td>3</td>\n",
              "      <td>38138</td>\n",
              "      <td>NaN</td>\n",
              "      <td>FAEE9F3B-FEE5-4261-B1D2-DB3F0DC536F6</td>\n",
              "      <td>None</td>\n",
              "    </tr>\n",
              "    <tr>\n",
              "      <th>2368</th>\n",
              "      <td>8E4D3A40-DFB2-4F04-A2D6-8E1D6CC7AB78</td>\n",
              "      <td>3</td>\n",
              "      <td>38138</td>\n",
              "      <td>NaN</td>\n",
              "      <td>FAEE9F3B-FEE5-4261-B1D2-DB3F0DC536F6</td>\n",
              "      <td>None</td>\n",
              "    </tr>\n",
              "    <tr>\n",
              "      <th>2369</th>\n",
              "      <td>312521BB-5405-4D54-A2AB-B60D43A337F9</td>\n",
              "      <td>2</td>\n",
              "      <td>38138</td>\n",
              "      <td>NaN</td>\n",
              "      <td>FAEE9F3B-FEE5-4261-B1D2-DB3F0DC536F6</td>\n",
              "      <td>None</td>\n",
              "    </tr>\n",
              "    <tr>\n",
              "      <th>2370</th>\n",
              "      <td>31D86D46-F112-4F44-9AB9-5D3F0F6E5F91</td>\n",
              "      <td>2</td>\n",
              "      <td>38138</td>\n",
              "      <td>NaN</td>\n",
              "      <td>FAEE9F3B-FEE5-4261-B1D2-DB3F0DC536F6</td>\n",
              "      <td>None</td>\n",
              "    </tr>\n",
              "    <tr>\n",
              "      <th>2371</th>\n",
              "      <td>3F8725B8-E5B7-45AB-BE02-4BBF6F3BC64D</td>\n",
              "      <td>2</td>\n",
              "      <td>38138</td>\n",
              "      <td>NaN</td>\n",
              "      <td>FAEE9F3B-FEE5-4261-B1D2-DB3F0DC536F6</td>\n",
              "      <td>None</td>\n",
              "    </tr>\n",
              "  </tbody>\n",
              "</table>\n",
              "<p>2372 rows × 6 columns</p>\n",
              "</div>"
            ],
            "text/plain": [
              "                               ebs_user_id  ...                     depart_partner_id\n",
              "0     B53C9E2E-885E-4527-8435-29629E12609F  ...                                  None\n",
              "1     70B6BB5B-3262-4AE0-A8DE-4633FBD804D2  ...                                  None\n",
              "2     985827D1-3B5D-42AF-A3FF-5361392485EB  ...  6D31D669-91BE-4CB4-BFF2-4AD6437682C9\n",
              "3     3516C38B-B9E0-4E1E-9E69-2DA2967C9735  ...  6D31D669-91BE-4CB4-BFF2-4AD6437682C9\n",
              "4     35D1E197-B9F5-4081-8F02-33F460079B91  ...  6D31D669-91BE-4CB4-BFF2-4AD6437682C9\n",
              "...                                    ...  ...                                   ...\n",
              "2367  32DECCBE-C03F-424C-9351-4D69F8825EE2  ...                                  None\n",
              "2368  8E4D3A40-DFB2-4F04-A2D6-8E1D6CC7AB78  ...                                  None\n",
              "2369  312521BB-5405-4D54-A2AB-B60D43A337F9  ...                                  None\n",
              "2370  31D86D46-F112-4F44-9AB9-5D3F0F6E5F91  ...                                  None\n",
              "2371  3F8725B8-E5B7-45AB-BE02-4BBF6F3BC64D  ...                                  None\n",
              "\n",
              "[2372 rows x 6 columns]"
            ]
          },
          "metadata": {
            "tags": []
          },
          "execution_count": 260
        }
      ]
    },
    {
      "cell_type": "code",
      "metadata": {
        "id": "jyMCLbr274zK",
        "colab": {
          "base_uri": "https://localhost:8080/",
          "height": 419
        },
        "outputId": "1a80959f-e5a7-48e3-b351-6a332050dad1"
      },
      "source": [
        "pd.set_option('display.max_rows', 10)\n",
        "pd.DataFrame(getUsersByRegionCode(4))"
      ],
      "execution_count": null,
      "outputs": [
        {
          "output_type": "execute_result",
          "data": {
            "text/html": [
              "<div>\n",
              "<style scoped>\n",
              "    .dataframe tbody tr th:only-of-type {\n",
              "        vertical-align: middle;\n",
              "    }\n",
              "\n",
              "    .dataframe tbody tr th {\n",
              "        vertical-align: top;\n",
              "    }\n",
              "\n",
              "    .dataframe thead th {\n",
              "        text-align: right;\n",
              "    }\n",
              "</style>\n",
              "<table border=\"1\" class=\"dataframe\">\n",
              "  <thead>\n",
              "    <tr style=\"text-align: right;\">\n",
              "      <th></th>\n",
              "      <th>ebs_user_id</th>\n",
              "      <th>role_id</th>\n",
              "      <th>main_fcode</th>\n",
              "      <th>depart_fcode</th>\n",
              "      <th>main_partner_id</th>\n",
              "      <th>depart_partner_id</th>\n",
              "    </tr>\n",
              "  </thead>\n",
              "  <tbody>\n",
              "    <tr>\n",
              "      <th>0</th>\n",
              "      <td>038E6897-055E-4E8A-8E66-79238A8E4263</td>\n",
              "      <td>3</td>\n",
              "      <td>37106</td>\n",
              "      <td>NaN</td>\n",
              "      <td>136864AD-DE84-4E8D-9E43-51D44F98158C</td>\n",
              "      <td>None</td>\n",
              "    </tr>\n",
              "    <tr>\n",
              "      <th>1</th>\n",
              "      <td>256BC5E4-3446-4137-B5B5-54200333DDC1</td>\n",
              "      <td>2</td>\n",
              "      <td>37106</td>\n",
              "      <td>NaN</td>\n",
              "      <td>136864AD-DE84-4E8D-9E43-51D44F98158C</td>\n",
              "      <td>None</td>\n",
              "    </tr>\n",
              "    <tr>\n",
              "      <th>2</th>\n",
              "      <td>913AC406-E785-4FE7-9D55-F9D203561B35</td>\n",
              "      <td>3</td>\n",
              "      <td>37106</td>\n",
              "      <td>NaN</td>\n",
              "      <td>136864AD-DE84-4E8D-9E43-51D44F98158C</td>\n",
              "      <td>None</td>\n",
              "    </tr>\n",
              "    <tr>\n",
              "      <th>3</th>\n",
              "      <td>E538A7EA-98CA-4AC2-8205-C0CBAEEA2B10</td>\n",
              "      <td>2</td>\n",
              "      <td>37106</td>\n",
              "      <td>NaN</td>\n",
              "      <td>136864AD-DE84-4E8D-9E43-51D44F98158C</td>\n",
              "      <td>None</td>\n",
              "    </tr>\n",
              "    <tr>\n",
              "      <th>4</th>\n",
              "      <td>3F9569A2-A180-4483-B819-1170CECA5D9A</td>\n",
              "      <td>3</td>\n",
              "      <td>37106</td>\n",
              "      <td>NaN</td>\n",
              "      <td>136864AD-DE84-4E8D-9E43-51D44F98158C</td>\n",
              "      <td>None</td>\n",
              "    </tr>\n",
              "    <tr>\n",
              "      <th>...</th>\n",
              "      <td>...</td>\n",
              "      <td>...</td>\n",
              "      <td>...</td>\n",
              "      <td>...</td>\n",
              "      <td>...</td>\n",
              "      <td>...</td>\n",
              "    </tr>\n",
              "    <tr>\n",
              "      <th>268</th>\n",
              "      <td>3267BE9B-78CA-45DC-8BD8-6E73C5745063</td>\n",
              "      <td>1</td>\n",
              "      <td>41248</td>\n",
              "      <td>NaN</td>\n",
              "      <td>E8DECBFC-AE91-48CE-AA45-31C6C1E573AA</td>\n",
              "      <td>None</td>\n",
              "    </tr>\n",
              "    <tr>\n",
              "      <th>269</th>\n",
              "      <td>E904F426-3143-4A3A-9415-45851DE2FB88</td>\n",
              "      <td>3</td>\n",
              "      <td>41248</td>\n",
              "      <td>NaN</td>\n",
              "      <td>E8DECBFC-AE91-48CE-AA45-31C6C1E573AA</td>\n",
              "      <td>None</td>\n",
              "    </tr>\n",
              "    <tr>\n",
              "      <th>270</th>\n",
              "      <td>A29D1E01-80D5-48A8-B71D-0A4CDBBDB3B6</td>\n",
              "      <td>3</td>\n",
              "      <td>41248</td>\n",
              "      <td>NaN</td>\n",
              "      <td>E8DECBFC-AE91-48CE-AA45-31C6C1E573AA</td>\n",
              "      <td>None</td>\n",
              "    </tr>\n",
              "    <tr>\n",
              "      <th>271</th>\n",
              "      <td>84748937-0C43-4BBB-87C0-A31777E59B89</td>\n",
              "      <td>3</td>\n",
              "      <td>41248</td>\n",
              "      <td>NaN</td>\n",
              "      <td>E8DECBFC-AE91-48CE-AA45-31C6C1E573AA</td>\n",
              "      <td>None</td>\n",
              "    </tr>\n",
              "    <tr>\n",
              "      <th>272</th>\n",
              "      <td>E1973A59-E304-4590-8178-54A4E57C10A9</td>\n",
              "      <td>3</td>\n",
              "      <td>41248</td>\n",
              "      <td>NaN</td>\n",
              "      <td>E8DECBFC-AE91-48CE-AA45-31C6C1E573AA</td>\n",
              "      <td>None</td>\n",
              "    </tr>\n",
              "  </tbody>\n",
              "</table>\n",
              "<p>273 rows × 6 columns</p>\n",
              "</div>"
            ],
            "text/plain": [
              "                              ebs_user_id  ...  depart_partner_id\n",
              "0    038E6897-055E-4E8A-8E66-79238A8E4263  ...               None\n",
              "1    256BC5E4-3446-4137-B5B5-54200333DDC1  ...               None\n",
              "2    913AC406-E785-4FE7-9D55-F9D203561B35  ...               None\n",
              "3    E538A7EA-98CA-4AC2-8205-C0CBAEEA2B10  ...               None\n",
              "4    3F9569A2-A180-4483-B819-1170CECA5D9A  ...               None\n",
              "..                                    ...  ...                ...\n",
              "268  3267BE9B-78CA-45DC-8BD8-6E73C5745063  ...               None\n",
              "269  E904F426-3143-4A3A-9415-45851DE2FB88  ...               None\n",
              "270  A29D1E01-80D5-48A8-B71D-0A4CDBBDB3B6  ...               None\n",
              "271  84748937-0C43-4BBB-87C0-A31777E59B89  ...               None\n",
              "272  E1973A59-E304-4590-8178-54A4E57C10A9  ...               None\n",
              "\n",
              "[273 rows x 6 columns]"
            ]
          },
          "metadata": {
            "tags": []
          },
          "execution_count": 261
        }
      ]
    },
    {
      "cell_type": "code",
      "metadata": {
        "id": "TRCGe7SxYxCH",
        "colab": {
          "base_uri": "https://localhost:8080/",
          "height": 419
        },
        "outputId": "85e2413b-c245-4afc-fb23-6db0f8c7ecb1"
      },
      "source": [
        "pd.set_option('display.max_rows', 10)\r\n",
        "pd.DataFrame(getUsersByMainPartnerId(\"FFE97B16-71AA-47C2-AA40-06550C41A5FA\"))"
      ],
      "execution_count": null,
      "outputs": [
        {
          "output_type": "execute_result",
          "data": {
            "text/html": [
              "<div>\n",
              "<style scoped>\n",
              "    .dataframe tbody tr th:only-of-type {\n",
              "        vertical-align: middle;\n",
              "    }\n",
              "\n",
              "    .dataframe tbody tr th {\n",
              "        vertical-align: top;\n",
              "    }\n",
              "\n",
              "    .dataframe thead th {\n",
              "        text-align: right;\n",
              "    }\n",
              "</style>\n",
              "<table border=\"1\" class=\"dataframe\">\n",
              "  <thead>\n",
              "    <tr style=\"text-align: right;\">\n",
              "      <th></th>\n",
              "      <th>ebs_user_id</th>\n",
              "      <th>role_id</th>\n",
              "      <th>main_fcode</th>\n",
              "      <th>depart_fcode</th>\n",
              "      <th>main_partner_id</th>\n",
              "      <th>depart_partner_id</th>\n",
              "    </tr>\n",
              "  </thead>\n",
              "  <tbody>\n",
              "    <tr>\n",
              "      <th>0</th>\n",
              "      <td>7F196572-9F04-46F0-A013-EF8C43C0B361</td>\n",
              "      <td>3</td>\n",
              "      <td>52916</td>\n",
              "      <td>None</td>\n",
              "      <td>FFE97B16-71AA-47C2-AA40-06550C41A5FA</td>\n",
              "      <td>None</td>\n",
              "    </tr>\n",
              "    <tr>\n",
              "      <th>1</th>\n",
              "      <td>26013A7D-FE2B-4D75-9D24-80492B1DA4D0</td>\n",
              "      <td>2</td>\n",
              "      <td>52916</td>\n",
              "      <td>None</td>\n",
              "      <td>FFE97B16-71AA-47C2-AA40-06550C41A5FA</td>\n",
              "      <td>None</td>\n",
              "    </tr>\n",
              "    <tr>\n",
              "      <th>2</th>\n",
              "      <td>05586E13-8732-4A75-B9E2-AB19D9AD84DA</td>\n",
              "      <td>3</td>\n",
              "      <td>52916</td>\n",
              "      <td>None</td>\n",
              "      <td>FFE97B16-71AA-47C2-AA40-06550C41A5FA</td>\n",
              "      <td>None</td>\n",
              "    </tr>\n",
              "    <tr>\n",
              "      <th>3</th>\n",
              "      <td>D66547ED-5EBC-478E-B48E-8032D7CDD78B</td>\n",
              "      <td>2</td>\n",
              "      <td>52916</td>\n",
              "      <td>None</td>\n",
              "      <td>FFE97B16-71AA-47C2-AA40-06550C41A5FA</td>\n",
              "      <td>None</td>\n",
              "    </tr>\n",
              "    <tr>\n",
              "      <th>4</th>\n",
              "      <td>02B1E507-18EE-4CBE-B032-1EAC1C9E9983</td>\n",
              "      <td>2</td>\n",
              "      <td>52916</td>\n",
              "      <td>None</td>\n",
              "      <td>FFE97B16-71AA-47C2-AA40-06550C41A5FA</td>\n",
              "      <td>None</td>\n",
              "    </tr>\n",
              "    <tr>\n",
              "      <th>...</th>\n",
              "      <td>...</td>\n",
              "      <td>...</td>\n",
              "      <td>...</td>\n",
              "      <td>...</td>\n",
              "      <td>...</td>\n",
              "      <td>...</td>\n",
              "    </tr>\n",
              "    <tr>\n",
              "      <th>8</th>\n",
              "      <td>4D10DD2B-31AA-412B-B917-4DA3ABC8A4CF</td>\n",
              "      <td>3</td>\n",
              "      <td>52916</td>\n",
              "      <td>None</td>\n",
              "      <td>FFE97B16-71AA-47C2-AA40-06550C41A5FA</td>\n",
              "      <td>None</td>\n",
              "    </tr>\n",
              "    <tr>\n",
              "      <th>9</th>\n",
              "      <td>7A406C65-6B79-426E-9026-7248EF8F8CCA</td>\n",
              "      <td>2</td>\n",
              "      <td>52916</td>\n",
              "      <td>None</td>\n",
              "      <td>FFE97B16-71AA-47C2-AA40-06550C41A5FA</td>\n",
              "      <td>None</td>\n",
              "    </tr>\n",
              "    <tr>\n",
              "      <th>10</th>\n",
              "      <td>5493B090-9376-4CC8-ADDD-EFBB392A4061</td>\n",
              "      <td>3</td>\n",
              "      <td>52916</td>\n",
              "      <td>None</td>\n",
              "      <td>FFE97B16-71AA-47C2-AA40-06550C41A5FA</td>\n",
              "      <td>None</td>\n",
              "    </tr>\n",
              "    <tr>\n",
              "      <th>11</th>\n",
              "      <td>23776DB4-591F-4B1E-B054-2555E4788CF1</td>\n",
              "      <td>3</td>\n",
              "      <td>52916</td>\n",
              "      <td>None</td>\n",
              "      <td>FFE97B16-71AA-47C2-AA40-06550C41A5FA</td>\n",
              "      <td>None</td>\n",
              "    </tr>\n",
              "    <tr>\n",
              "      <th>12</th>\n",
              "      <td>32B0AD24-1BCE-49E0-A465-35C6CBDDE5A9</td>\n",
              "      <td>3</td>\n",
              "      <td>52916</td>\n",
              "      <td>None</td>\n",
              "      <td>FFE97B16-71AA-47C2-AA40-06550C41A5FA</td>\n",
              "      <td>None</td>\n",
              "    </tr>\n",
              "  </tbody>\n",
              "</table>\n",
              "<p>13 rows × 6 columns</p>\n",
              "</div>"
            ],
            "text/plain": [
              "                             ebs_user_id  ...  depart_partner_id\n",
              "0   7F196572-9F04-46F0-A013-EF8C43C0B361  ...               None\n",
              "1   26013A7D-FE2B-4D75-9D24-80492B1DA4D0  ...               None\n",
              "2   05586E13-8732-4A75-B9E2-AB19D9AD84DA  ...               None\n",
              "3   D66547ED-5EBC-478E-B48E-8032D7CDD78B  ...               None\n",
              "4   02B1E507-18EE-4CBE-B032-1EAC1C9E9983  ...               None\n",
              "..                                   ...  ...                ...\n",
              "8   4D10DD2B-31AA-412B-B917-4DA3ABC8A4CF  ...               None\n",
              "9   7A406C65-6B79-426E-9026-7248EF8F8CCA  ...               None\n",
              "10  5493B090-9376-4CC8-ADDD-EFBB392A4061  ...               None\n",
              "11  23776DB4-591F-4B1E-B054-2555E4788CF1  ...               None\n",
              "12  32B0AD24-1BCE-49E0-A465-35C6CBDDE5A9  ...               None\n",
              "\n",
              "[13 rows x 6 columns]"
            ]
          },
          "metadata": {
            "tags": []
          },
          "execution_count": 262
        }
      ]
    },
    {
      "cell_type": "code",
      "metadata": {
        "id": "BMdtcngJa1nP",
        "colab": {
          "base_uri": "https://localhost:8080/",
          "height": 419
        },
        "outputId": "9b5d8190-ec73-444e-ad0b-de86b0bc960d"
      },
      "source": [
        "pd.set_option('display.max_rows', 10)\r\n",
        "pd.DataFrame(getUsersByDepartPartnerId(\"FFE9E23A-6381-47D9-B522-A14B23D57142\"))"
      ],
      "execution_count": null,
      "outputs": [
        {
          "output_type": "execute_result",
          "data": {
            "text/html": [
              "<div>\n",
              "<style scoped>\n",
              "    .dataframe tbody tr th:only-of-type {\n",
              "        vertical-align: middle;\n",
              "    }\n",
              "\n",
              "    .dataframe tbody tr th {\n",
              "        vertical-align: top;\n",
              "    }\n",
              "\n",
              "    .dataframe thead th {\n",
              "        text-align: right;\n",
              "    }\n",
              "</style>\n",
              "<table border=\"1\" class=\"dataframe\">\n",
              "  <thead>\n",
              "    <tr style=\"text-align: right;\">\n",
              "      <th></th>\n",
              "      <th>ebs_user_id</th>\n",
              "      <th>role_id</th>\n",
              "      <th>main_fcode</th>\n",
              "      <th>depart_fcode</th>\n",
              "      <th>main_partner_id</th>\n",
              "      <th>depart_partner_id</th>\n",
              "    </tr>\n",
              "  </thead>\n",
              "  <tbody>\n",
              "    <tr>\n",
              "      <th>0</th>\n",
              "      <td>52AFB313-0BAB-46D3-BA8F-868D262BB02F</td>\n",
              "      <td>3</td>\n",
              "      <td>11211</td>\n",
              "      <td>54983</td>\n",
              "      <td>9A760A98-A1D1-4DA5-89F6-C305860693F3</td>\n",
              "      <td>FFE9E23A-6381-47D9-B522-A14B23D57142</td>\n",
              "    </tr>\n",
              "    <tr>\n",
              "      <th>1</th>\n",
              "      <td>34969186-C514-46F7-B552-5D1686842158</td>\n",
              "      <td>3</td>\n",
              "      <td>11211</td>\n",
              "      <td>54983</td>\n",
              "      <td>9A760A98-A1D1-4DA5-89F6-C305860693F3</td>\n",
              "      <td>FFE9E23A-6381-47D9-B522-A14B23D57142</td>\n",
              "    </tr>\n",
              "    <tr>\n",
              "      <th>2</th>\n",
              "      <td>6556C879-7340-4F6E-8484-0A0AD3E0AF35</td>\n",
              "      <td>3</td>\n",
              "      <td>11211</td>\n",
              "      <td>54983</td>\n",
              "      <td>9A760A98-A1D1-4DA5-89F6-C305860693F3</td>\n",
              "      <td>FFE9E23A-6381-47D9-B522-A14B23D57142</td>\n",
              "    </tr>\n",
              "    <tr>\n",
              "      <th>3</th>\n",
              "      <td>0CDCC182-A71F-47FD-9C63-192B9B33344C</td>\n",
              "      <td>2</td>\n",
              "      <td>11211</td>\n",
              "      <td>54983</td>\n",
              "      <td>9A760A98-A1D1-4DA5-89F6-C305860693F3</td>\n",
              "      <td>FFE9E23A-6381-47D9-B522-A14B23D57142</td>\n",
              "    </tr>\n",
              "    <tr>\n",
              "      <th>4</th>\n",
              "      <td>A330274B-4B73-4C07-AC53-35EB0F9A6B2D</td>\n",
              "      <td>3</td>\n",
              "      <td>11211</td>\n",
              "      <td>54983</td>\n",
              "      <td>9A760A98-A1D1-4DA5-89F6-C305860693F3</td>\n",
              "      <td>FFE9E23A-6381-47D9-B522-A14B23D57142</td>\n",
              "    </tr>\n",
              "    <tr>\n",
              "      <th>...</th>\n",
              "      <td>...</td>\n",
              "      <td>...</td>\n",
              "      <td>...</td>\n",
              "      <td>...</td>\n",
              "      <td>...</td>\n",
              "      <td>...</td>\n",
              "    </tr>\n",
              "    <tr>\n",
              "      <th>6</th>\n",
              "      <td>0EDB5E6C-6EBE-4501-976D-04C01112E6BD</td>\n",
              "      <td>3</td>\n",
              "      <td>11211</td>\n",
              "      <td>54983</td>\n",
              "      <td>9A760A98-A1D1-4DA5-89F6-C305860693F3</td>\n",
              "      <td>FFE9E23A-6381-47D9-B522-A14B23D57142</td>\n",
              "    </tr>\n",
              "    <tr>\n",
              "      <th>7</th>\n",
              "      <td>723F7689-A247-4DBA-A3A1-98F891F4AF7B</td>\n",
              "      <td>3</td>\n",
              "      <td>11211</td>\n",
              "      <td>54983</td>\n",
              "      <td>9A760A98-A1D1-4DA5-89F6-C305860693F3</td>\n",
              "      <td>FFE9E23A-6381-47D9-B522-A14B23D57142</td>\n",
              "    </tr>\n",
              "    <tr>\n",
              "      <th>8</th>\n",
              "      <td>5FB7A61B-EA61-4C21-82F3-755D2DD220EE</td>\n",
              "      <td>3</td>\n",
              "      <td>11211</td>\n",
              "      <td>54983</td>\n",
              "      <td>9A760A98-A1D1-4DA5-89F6-C305860693F3</td>\n",
              "      <td>FFE9E23A-6381-47D9-B522-A14B23D57142</td>\n",
              "    </tr>\n",
              "    <tr>\n",
              "      <th>9</th>\n",
              "      <td>1F5E9507-15D3-45E4-AD19-DAD540C825CD</td>\n",
              "      <td>3</td>\n",
              "      <td>11211</td>\n",
              "      <td>54983</td>\n",
              "      <td>9A760A98-A1D1-4DA5-89F6-C305860693F3</td>\n",
              "      <td>FFE9E23A-6381-47D9-B522-A14B23D57142</td>\n",
              "    </tr>\n",
              "    <tr>\n",
              "      <th>10</th>\n",
              "      <td>508AC1A4-0C83-4893-8CAA-E465D2A2E5C4</td>\n",
              "      <td>3</td>\n",
              "      <td>11211</td>\n",
              "      <td>54983</td>\n",
              "      <td>9A760A98-A1D1-4DA5-89F6-C305860693F3</td>\n",
              "      <td>FFE9E23A-6381-47D9-B522-A14B23D57142</td>\n",
              "    </tr>\n",
              "  </tbody>\n",
              "</table>\n",
              "<p>11 rows × 6 columns</p>\n",
              "</div>"
            ],
            "text/plain": [
              "                             ebs_user_id  ...                     depart_partner_id\n",
              "0   52AFB313-0BAB-46D3-BA8F-868D262BB02F  ...  FFE9E23A-6381-47D9-B522-A14B23D57142\n",
              "1   34969186-C514-46F7-B552-5D1686842158  ...  FFE9E23A-6381-47D9-B522-A14B23D57142\n",
              "2   6556C879-7340-4F6E-8484-0A0AD3E0AF35  ...  FFE9E23A-6381-47D9-B522-A14B23D57142\n",
              "3   0CDCC182-A71F-47FD-9C63-192B9B33344C  ...  FFE9E23A-6381-47D9-B522-A14B23D57142\n",
              "4   A330274B-4B73-4C07-AC53-35EB0F9A6B2D  ...  FFE9E23A-6381-47D9-B522-A14B23D57142\n",
              "..                                   ...  ...                                   ...\n",
              "6   0EDB5E6C-6EBE-4501-976D-04C01112E6BD  ...  FFE9E23A-6381-47D9-B522-A14B23D57142\n",
              "7   723F7689-A247-4DBA-A3A1-98F891F4AF7B  ...  FFE9E23A-6381-47D9-B522-A14B23D57142\n",
              "8   5FB7A61B-EA61-4C21-82F3-755D2DD220EE  ...  FFE9E23A-6381-47D9-B522-A14B23D57142\n",
              "9   1F5E9507-15D3-45E4-AD19-DAD540C825CD  ...  FFE9E23A-6381-47D9-B522-A14B23D57142\n",
              "10  508AC1A4-0C83-4893-8CAA-E465D2A2E5C4  ...  FFE9E23A-6381-47D9-B522-A14B23D57142\n",
              "\n",
              "[11 rows x 6 columns]"
            ]
          },
          "metadata": {
            "tags": []
          },
          "execution_count": 263
        }
      ]
    },
    {
      "cell_type": "code",
      "metadata": {
        "id": "oOP8_gF0pSLf"
      },
      "source": [
        "# cursor.execute(\"\"\"SELECT DISTINCT reader_id FROM new_stats LIMIT 50\"\"\")\r\n",
        "# records = cursor.fetchall()\r\n",
        "\r\n",
        "# for rec in records:\r\n",
        "#   data = getReadingTimeAndPagesCount(rec['reader_id'])\r\n",
        "#   if data != None:\r\n",
        "#     print(\"User ID:\", rec['reader_id'], \"Time:\", data['time'], \"Pages:\", data['pages'])\r\n",
        "#   else:\r\n",
        "#     print(\"None\")"
      ],
      "execution_count": null,
      "outputs": []
    },
    {
      "cell_type": "code",
      "metadata": {
        "id": "jUsf-sKrmAkI",
        "colab": {
          "base_uri": "https://localhost:8080/"
        },
        "outputId": "58d3749d-7918-4d7d-b463-f7faabbb729d"
      },
      "source": [
        "getFormativeTestCompletion('FF403515-DC85-4920-BC65-148B36318C02', \r\n",
        "                           '867361CE-0FA5-4031-92C0-A33760330AAC')"
      ],
      "execution_count": null,
      "outputs": [
        {
          "output_type": "execute_result",
          "data": {
            "text/plain": [
              "46.666666666666664"
            ]
          },
          "metadata": {
            "tags": []
          },
          "execution_count": 265
        }
      ]
    },
    {
      "cell_type": "code",
      "metadata": {
        "id": "QSDcPjfbG_Ch",
        "colab": {
          "base_uri": "https://localhost:8080/",
          "height": 646
        },
        "outputId": "d5aa6e26-f77c-49e0-f638-a831f31154cc"
      },
      "source": [
        "# cursor.execute(\"\"\"SELECT DISTINCT ebs_user_id FROM quiz_users\"\"\")\r\n",
        "# users = cursor.fetchall()\r\n",
        "# for user in users:\r\n",
        "#   print('UserID:', user['ebs_user_id'])\r\n",
        "#   print('Rating:', getStudentCourseRating(user['ebs_user_id']))\r\n",
        "#   print('\\n')"
      ],
      "execution_count": null,
      "outputs": [
        {
          "output_type": "stream",
          "text": [
            "UserID: 71116810-A5E6-4079-B31C-1A525510C543\n",
            "Rating: 15.0\n",
            "\n",
            "\n",
            "UserID: FF403515-DC85-4920-BC65-148B36318C02\n",
            "Rating: 46.666666666666664\n",
            "\n",
            "\n",
            "UserID: 85FD103C-CEDF-4147-95EC-44A213EFD486\n",
            "Rating: 100.0\n",
            "\n",
            "\n",
            "UserID: 1BB890C1-02CB-403B-B4E7-6A0A129878DB\n"
          ],
          "name": "stdout"
        },
        {
          "output_type": "stream",
          "text": [
            "ERROR:root:An unexpected error occurred while tokenizing input\n",
            "The following traceback may be corrupted or invalid\n",
            "The error message is: ('EOF in multi-line string', (1, 78))\n",
            "\n"
          ],
          "name": "stderr"
        },
        {
          "output_type": "error",
          "ename": "KeyboardInterrupt",
          "evalue": "ignored",
          "traceback": [
            "\u001b[0;31m---------------------------------------------------------------------------\u001b[0m",
            "\u001b[0;31mKeyboardInterrupt\u001b[0m                         Traceback (most recent call last)",
            "\u001b[0;32m<ipython-input-266-e178017c23e8>\u001b[0m in \u001b[0;36m<module>\u001b[0;34m()\u001b[0m\n\u001b[1;32m      3\u001b[0m \u001b[0;32mfor\u001b[0m \u001b[0muser\u001b[0m \u001b[0;32min\u001b[0m \u001b[0musers\u001b[0m\u001b[0;34m:\u001b[0m\u001b[0;34m\u001b[0m\u001b[0;34m\u001b[0m\u001b[0m\n\u001b[1;32m      4\u001b[0m   \u001b[0mprint\u001b[0m\u001b[0;34m(\u001b[0m\u001b[0;34m'UserID:'\u001b[0m\u001b[0;34m,\u001b[0m \u001b[0muser\u001b[0m\u001b[0;34m[\u001b[0m\u001b[0;34m'ebs_user_id'\u001b[0m\u001b[0;34m]\u001b[0m\u001b[0;34m)\u001b[0m\u001b[0;34m\u001b[0m\u001b[0;34m\u001b[0m\u001b[0m\n\u001b[0;32m----> 5\u001b[0;31m   \u001b[0mprint\u001b[0m\u001b[0;34m(\u001b[0m\u001b[0;34m'Rating:'\u001b[0m\u001b[0;34m,\u001b[0m \u001b[0mgetStudentCourseRating\u001b[0m\u001b[0;34m(\u001b[0m\u001b[0muser\u001b[0m\u001b[0;34m[\u001b[0m\u001b[0;34m'ebs_user_id'\u001b[0m\u001b[0;34m]\u001b[0m\u001b[0;34m)\u001b[0m\u001b[0;34m)\u001b[0m\u001b[0;34m\u001b[0m\u001b[0;34m\u001b[0m\u001b[0m\n\u001b[0m\u001b[1;32m      6\u001b[0m   \u001b[0mprint\u001b[0m\u001b[0;34m(\u001b[0m\u001b[0;34m'\\n'\u001b[0m\u001b[0;34m)\u001b[0m\u001b[0;34m\u001b[0m\u001b[0;34m\u001b[0m\u001b[0m\n",
            "\u001b[0;32m<ipython-input-254-05c8b7565119>\u001b[0m in \u001b[0;36mgetStudentCourseRating\u001b[0;34m(studentId, courseId)\u001b[0m\n\u001b[1;32m     14\u001b[0m   \u001b[0mtests\u001b[0m \u001b[0;34m=\u001b[0m \u001b[0mcursor\u001b[0m\u001b[0;34m.\u001b[0m\u001b[0mfetchall\u001b[0m\u001b[0;34m(\u001b[0m\u001b[0;34m)\u001b[0m\u001b[0;34m\u001b[0m\u001b[0;34m\u001b[0m\u001b[0m\n\u001b[1;32m     15\u001b[0m   \u001b[0;32mfor\u001b[0m \u001b[0mtest\u001b[0m \u001b[0;32min\u001b[0m \u001b[0mtests\u001b[0m\u001b[0;34m:\u001b[0m\u001b[0;34m\u001b[0m\u001b[0;34m\u001b[0m\u001b[0m\n\u001b[0;32m---> 16\u001b[0;31m     \u001b[0mscore\u001b[0m \u001b[0;34m=\u001b[0m \u001b[0mgetFormativeTestCompletion\u001b[0m\u001b[0;34m(\u001b[0m\u001b[0mstudentId\u001b[0m\u001b[0;34m,\u001b[0m \u001b[0mtest\u001b[0m\u001b[0;34m[\u001b[0m\u001b[0;34m'quiz_id'\u001b[0m\u001b[0;34m]\u001b[0m\u001b[0;34m)\u001b[0m\u001b[0;34m\u001b[0m\u001b[0;34m\u001b[0m\u001b[0m\n\u001b[0m\u001b[1;32m     17\u001b[0m     \u001b[0;32mif\u001b[0m \u001b[0mscore\u001b[0m \u001b[0;34m!=\u001b[0m \u001b[0;32mNone\u001b[0m\u001b[0;34m:\u001b[0m\u001b[0;34m\u001b[0m\u001b[0;34m\u001b[0m\u001b[0m\n\u001b[1;32m     18\u001b[0m       \u001b[0mresult\u001b[0m \u001b[0;34m+=\u001b[0m \u001b[0mscore\u001b[0m\u001b[0;34m\u001b[0m\u001b[0;34m\u001b[0m\u001b[0m\n",
            "\u001b[0;32m<ipython-input-253-4c06908ee76f>\u001b[0m in \u001b[0;36mgetFormativeTestCompletion\u001b[0;34m(studentId, testId)\u001b[0m\n\u001b[1;32m      1\u001b[0m \u001b[0;32mdef\u001b[0m \u001b[0mgetFormativeTestCompletion\u001b[0m\u001b[0;34m(\u001b[0m\u001b[0mstudentId\u001b[0m \u001b[0;34m=\u001b[0m \u001b[0mstr\u001b[0m\u001b[0;34m,\u001b[0m \u001b[0mtestId\u001b[0m \u001b[0;34m=\u001b[0m \u001b[0mstr\u001b[0m\u001b[0;34m)\u001b[0m\u001b[0;34m:\u001b[0m\u001b[0;34m\u001b[0m\u001b[0;34m\u001b[0m\u001b[0m\n\u001b[1;32m      2\u001b[0m     cursor.execute(f\"\"\"SELECT score, total_score FROM quiz_users\n\u001b[0;32m----> 3\u001b[0;31m                     WHERE ebs_user_id = '{studentId}' AND quiz_id = '{testId}'\"\"\")\n\u001b[0m\u001b[1;32m      4\u001b[0m     \u001b[0mcompletion\u001b[0m \u001b[0;34m=\u001b[0m \u001b[0mcursor\u001b[0m\u001b[0;34m.\u001b[0m\u001b[0mfetchall\u001b[0m\u001b[0;34m(\u001b[0m\u001b[0;34m)\u001b[0m\u001b[0;34m\u001b[0m\u001b[0;34m\u001b[0m\u001b[0m\n\u001b[1;32m      5\u001b[0m     \u001b[0mlastTryIndex\u001b[0m \u001b[0;34m=\u001b[0m \u001b[0mlen\u001b[0m\u001b[0;34m(\u001b[0m\u001b[0mcompletion\u001b[0m\u001b[0;34m)\u001b[0m \u001b[0;34m-\u001b[0m \u001b[0;36m1\u001b[0m\u001b[0;34m\u001b[0m\u001b[0;34m\u001b[0m\u001b[0m\n",
            "\u001b[0;32m/usr/local/lib/python3.7/dist-packages/mysql/connector/cursor_cext.py\u001b[0m in \u001b[0;36mexecute\u001b[0;34m(self, operation, params, multi)\u001b[0m\n\u001b[1;32m    274\u001b[0m             result = self._cnx.cmd_query(stmt, raw=self._raw,\n\u001b[1;32m    275\u001b[0m                                          \u001b[0mbuffered\u001b[0m\u001b[0;34m=\u001b[0m\u001b[0mself\u001b[0m\u001b[0;34m.\u001b[0m\u001b[0m_buffered\u001b[0m\u001b[0;34m,\u001b[0m\u001b[0;34m\u001b[0m\u001b[0;34m\u001b[0m\u001b[0m\n\u001b[0;32m--> 276\u001b[0;31m                                          raw_as_string=self._raw_as_string)\n\u001b[0m\u001b[1;32m    277\u001b[0m         \u001b[0;32mexcept\u001b[0m \u001b[0mMySQLInterfaceError\u001b[0m \u001b[0;32mas\u001b[0m \u001b[0mexc\u001b[0m\u001b[0;34m:\u001b[0m\u001b[0;34m\u001b[0m\u001b[0;34m\u001b[0m\u001b[0m\n\u001b[1;32m    278\u001b[0m             raise errors.get_mysql_exception(msg=exc.msg, errno=exc.errno,\n",
            "\u001b[0;32m/usr/local/lib/python3.7/dist-packages/mysql/connector/connection_cext.py\u001b[0m in \u001b[0;36mcmd_query\u001b[0;34m(self, query, raw, buffered, raw_as_string)\u001b[0m\n\u001b[1;32m    507\u001b[0m             self._cmysql.query(query,\n\u001b[1;32m    508\u001b[0m                                \u001b[0mraw\u001b[0m\u001b[0;34m=\u001b[0m\u001b[0mraw\u001b[0m\u001b[0;34m,\u001b[0m \u001b[0mbuffered\u001b[0m\u001b[0;34m=\u001b[0m\u001b[0mbuffered\u001b[0m\u001b[0;34m,\u001b[0m\u001b[0;34m\u001b[0m\u001b[0;34m\u001b[0m\u001b[0m\n\u001b[0;32m--> 509\u001b[0;31m                                raw_as_string=raw_as_string)\n\u001b[0m\u001b[1;32m    510\u001b[0m         \u001b[0;32mexcept\u001b[0m \u001b[0mMySQLInterfaceError\u001b[0m \u001b[0;32mas\u001b[0m \u001b[0mexc\u001b[0m\u001b[0;34m:\u001b[0m\u001b[0;34m\u001b[0m\u001b[0;34m\u001b[0m\u001b[0m\n\u001b[1;32m    511\u001b[0m             raise errors.get_mysql_exception(exc.errno, msg=exc.msg,\n",
            "\u001b[0;31mKeyboardInterrupt\u001b[0m: "
          ]
        }
      ]
    },
    {
      "cell_type": "markdown",
      "metadata": {
        "id": "URGjJC_015p-"
      },
      "source": [
        "## Рейтинг"
      ]
    },
    {
      "cell_type": "code",
      "metadata": {
        "colab": {
          "base_uri": "https://localhost:8080/",
          "height": 49
        },
        "id": "-iqH6c6rpFnE",
        "outputId": "0d4b0f94-b73c-4953-f767-18bb33a51435"
      },
      "source": [
        "dumpDF = pd.DataFrame(columns = ['user', 'BookmarksCount', \n",
        "                                         'Materials', 'CourseRating', \n",
        "                                         'StudentGroup', 'TeacherTests', \n",
        "                                         'InWebinarCer', 'InWebinarCnt', \n",
        "                                         'InConferences', 'Reading', 'SDA'])\n",
        "dumpDF"
      ],
      "execution_count": null,
      "outputs": [
        {
          "output_type": "execute_result",
          "data": {
            "text/html": [
              "<div>\n",
              "<style scoped>\n",
              "    .dataframe tbody tr th:only-of-type {\n",
              "        vertical-align: middle;\n",
              "    }\n",
              "\n",
              "    .dataframe tbody tr th {\n",
              "        vertical-align: top;\n",
              "    }\n",
              "\n",
              "    .dataframe thead th {\n",
              "        text-align: right;\n",
              "    }\n",
              "</style>\n",
              "<table border=\"1\" class=\"dataframe\">\n",
              "  <thead>\n",
              "    <tr style=\"text-align: right;\">\n",
              "      <th></th>\n",
              "      <th>user</th>\n",
              "      <th>BookmarksCount</th>\n",
              "      <th>Materials</th>\n",
              "      <th>CourseRating</th>\n",
              "      <th>StudentGroup</th>\n",
              "      <th>TeacherTests</th>\n",
              "      <th>InWebinarCer</th>\n",
              "      <th>InWebinarCnt</th>\n",
              "      <th>InConferences</th>\n",
              "      <th>Reading</th>\n",
              "      <th>SDA</th>\n",
              "    </tr>\n",
              "  </thead>\n",
              "  <tbody>\n",
              "  </tbody>\n",
              "</table>\n",
              "</div>"
            ],
            "text/plain": [
              "Empty DataFrame\n",
              "Columns: [user, BookmarksCount, Materials, CourseRating, StudentGroup, TeacherTests, InWebinarCer, InWebinarCnt, InConferences, Reading, SDA]\n",
              "Index: []"
            ]
          },
          "metadata": {
            "tags": []
          },
          "execution_count": 21
        }
      ]
    },
    {
      "cell_type": "code",
      "metadata": {
        "id": "2-V4n8KSndJN"
      },
      "source": [
        "cursor.execute(\"\"\"SELECT ebs_user_id FROM ebs_users \n",
        "                    WHERE ebs_user_id IN (SELECT ebs_user_id FROM users_market_depart\n",
        "                    WHERE role_id = 3)\n",
        "                        AND is_dead = 0\n",
        "                        AND is_bot = 0\n",
        "                            AND reg_date != 'NaT'\n",
        "                            AND login_id != 'None'\"\"\")\n",
        "users = cursor.fetchall()\n",
        "users = pd.DataFrame(users)"
      ],
      "execution_count": null,
      "outputs": []
    },
    {
      "cell_type": "code",
      "metadata": {
        "id": "6rJJuO7epgnA",
        "colab": {
          "base_uri": "https://localhost:8080/",
          "height": 419
        },
        "outputId": "e88c39c9-9275-40a9-9c06-31ba348c7968"
      },
      "source": [
        "users"
      ],
      "execution_count": null,
      "outputs": [
        {
          "output_type": "execute_result",
          "data": {
            "text/html": [
              "<div>\n",
              "<style scoped>\n",
              "    .dataframe tbody tr th:only-of-type {\n",
              "        vertical-align: middle;\n",
              "    }\n",
              "\n",
              "    .dataframe tbody tr th {\n",
              "        vertical-align: top;\n",
              "    }\n",
              "\n",
              "    .dataframe thead th {\n",
              "        text-align: right;\n",
              "    }\n",
              "</style>\n",
              "<table border=\"1\" class=\"dataframe\">\n",
              "  <thead>\n",
              "    <tr style=\"text-align: right;\">\n",
              "      <th></th>\n",
              "      <th>ebs_user_id</th>\n",
              "    </tr>\n",
              "  </thead>\n",
              "  <tbody>\n",
              "    <tr>\n",
              "      <th>0</th>\n",
              "      <td>00001BC6-FAC0-44CA-B2B5-B76ABBCF130F</td>\n",
              "    </tr>\n",
              "    <tr>\n",
              "      <th>1</th>\n",
              "      <td>00003052-D3BC-4965-9239-3BEE91FED0A1</td>\n",
              "    </tr>\n",
              "    <tr>\n",
              "      <th>2</th>\n",
              "      <td>000030F0-201E-4D41-B966-9A655B3C70AB</td>\n",
              "    </tr>\n",
              "    <tr>\n",
              "      <th>3</th>\n",
              "      <td>00003E07-2393-4B5D-8F95-74C0CA081BAE</td>\n",
              "    </tr>\n",
              "    <tr>\n",
              "      <th>4</th>\n",
              "      <td>00004875-C1C4-45A9-86A0-9CC63851D56E</td>\n",
              "    </tr>\n",
              "    <tr>\n",
              "      <th>...</th>\n",
              "      <td>...</td>\n",
              "    </tr>\n",
              "    <tr>\n",
              "      <th>1174159</th>\n",
              "      <td>FFFFA5FC-68C9-4D4C-85D1-122F8C5616A9</td>\n",
              "    </tr>\n",
              "    <tr>\n",
              "      <th>1174160</th>\n",
              "      <td>FFFFB0CD-9851-4F1F-834E-1AF4BF097D23</td>\n",
              "    </tr>\n",
              "    <tr>\n",
              "      <th>1174161</th>\n",
              "      <td>FFFFB3A6-0CF3-4946-ADC6-3F2748E0F2C2</td>\n",
              "    </tr>\n",
              "    <tr>\n",
              "      <th>1174162</th>\n",
              "      <td>FFFFC989-5628-4143-978D-271BCA0B773F</td>\n",
              "    </tr>\n",
              "    <tr>\n",
              "      <th>1174163</th>\n",
              "      <td>FFFFF920-BEE9-45E6-99E0-16D094A1FB0C</td>\n",
              "    </tr>\n",
              "  </tbody>\n",
              "</table>\n",
              "<p>1174164 rows × 1 columns</p>\n",
              "</div>"
            ],
            "text/plain": [
              "                                  ebs_user_id\n",
              "0        00001BC6-FAC0-44CA-B2B5-B76ABBCF130F\n",
              "1        00003052-D3BC-4965-9239-3BEE91FED0A1\n",
              "2        000030F0-201E-4D41-B966-9A655B3C70AB\n",
              "3        00003E07-2393-4B5D-8F95-74C0CA081BAE\n",
              "4        00004875-C1C4-45A9-86A0-9CC63851D56E\n",
              "...                                       ...\n",
              "1174159  FFFFA5FC-68C9-4D4C-85D1-122F8C5616A9\n",
              "1174160  FFFFB0CD-9851-4F1F-834E-1AF4BF097D23\n",
              "1174161  FFFFB3A6-0CF3-4946-ADC6-3F2748E0F2C2\n",
              "1174162  FFFFC989-5628-4143-978D-271BCA0B773F\n",
              "1174163  FFFFF920-BEE9-45E6-99E0-16D094A1FB0C\n",
              "\n",
              "[1174164 rows x 1 columns]"
            ]
          },
          "metadata": {
            "tags": []
          },
          "execution_count": 270
        }
      ]
    },
    {
      "cell_type": "code",
      "metadata": {
        "id": "O15_VKVsqJwn",
        "colab": {
          "base_uri": "https://localhost:8080/"
        },
        "outputId": "eb9260f1-0544-4a52-b601-b0a9cf66333a"
      },
      "source": [
        "%%time\n",
        "\n",
        "cnt = -1\n",
        "users_list = []\n",
        "modifiers_list = [ 0.07, 0.004, 0.6, 4,\n",
        "                  10, 0.5 * 0.3, 0.5 * 0.1, 0.5 * 0.2, 0.4 * 0.2 ]\n",
        "for i in range(30, 50):\n",
        "    user = users['ebs_user_id'][i]\n",
        "    a = getBookmarksCount(user)\n",
        "    b = getTimeViewingAndListeningMaterials(user)\n",
        "    if a + b > 0:\n",
        "        cnt += 1\n",
        "        users_list.append(list())\n",
        "        users_list[cnt].append(user)\n",
        "        users_list[cnt].append(a)\n",
        "        users_list[cnt].append(b)\n",
        "        users_list[cnt].append(getStudentCourseRating(user))\n",
        "        users_list[cnt].append(getInfoAboutStudentGroup(user))\n",
        "        users_list[cnt].append(getInformationAboutTeacherTests(user))\n",
        "        c, d = getInfAboutParticipationInWebinar(user)\n",
        "        users_list[cnt].append(c)\n",
        "        users_list[cnt].append(d)\n",
        "        users_list[cnt].append(getInfAboutParticipationInConferences(user))\n",
        "        users_list[cnt].append(getReadingTimeAndPagesCount(user))\n",
        "        p = 0\n",
        "        index = 0\n",
        "        for i in users_list[cnt]:\n",
        "            try:\n",
        "                p += i * modifiers_list[index]\n",
        "                index += 1\n",
        "            except TypeError:\n",
        "                continue\n",
        "        users_list[cnt].append(p)\n",
        "        \n",
        "\n",
        "\n",
        "\n",
        "df = pd.DataFrame(users_list, columns = ['user', 'BookmarksCount', \n",
        "                                         'Materials', 'CourseRating', \n",
        "                                         'StudentGroup', 'TeacherTests', \n",
        "                                         'InWebinarCer', 'InWebinarCnt', \n",
        "                                         'InConferences', 'Reading', 'SDA'])\n",
        "df"
      ],
      "execution_count": null,
      "outputs": [
        {
          "output_type": "stream",
          "text": [
            "CPU times: user 35.2 ms, sys: 3.64 ms, total: 38.8 ms\n",
            "Wall time: 16.4 s\n"
          ],
          "name": "stdout"
        }
      ]
    },
    {
      "cell_type": "code",
      "metadata": {
        "id": "AApAIHV_99xR"
      },
      "source": [
        "def GetASDRating(user_id):\r\n",
        "    cnt = -1\r\n",
        "    users_list = []\r\n",
        "    modifiers_list = [ 0.07, 0.004, 0.6, 4,\r\n",
        "                    10, 0.5 * 0.3, 0.5 * 0.1, 0.5 * 0.2, 0.4 * 0.2 ]\r\n",
        "    user = user_id\r\n",
        "    a = getBookmarksCount(user)\r\n",
        "    b = getTimeViewingAndListeningMaterials(user)\r\n",
        "    if a + b > 0:\r\n",
        "        cnt += 1\r\n",
        "        users_list.append(list())\r\n",
        "        users_list[cnt].append(user)\r\n",
        "        users_list[cnt].append(a)\r\n",
        "        users_list[cnt].append(b)\r\n",
        "        users_list[cnt].append(getStudentCourseRating(user))\r\n",
        "        users_list[cnt].append(getInfoAboutStudentGroup(user))\r\n",
        "        users_list[cnt].append(getInformationAboutTeacherTests(user))\r\n",
        "        c, d = getInfAboutParticipationInWebinar(user)\r\n",
        "        users_list[cnt].append(c)\r\n",
        "        users_list[cnt].append(d)\r\n",
        "        users_list[cnt].append(getInfAboutParticipationInConferences(user))\r\n",
        "        users_list[cnt].append(getReadingTimeAndPagesCount(user))\r\n",
        "        p = 0\r\n",
        "        index = 0\r\n",
        "        for i in users_list[cnt]:\r\n",
        "            try:\r\n",
        "                p += i * modifiers_list[index]\r\n",
        "                index += 1\r\n",
        "            except TypeError:\r\n",
        "                continue\r\n",
        "    return p\r\n",
        "            "
      ],
      "execution_count": null,
      "outputs": []
    },
    {
      "cell_type": "code",
      "metadata": {
        "id": "s3b-9Q48AHkk"
      },
      "source": [
        "def GetASDRatingByCourse(user_id, course_id):\r\n",
        "    cnt = -1\r\n",
        "    users_list = []\r\n",
        "    modifiers_list = [ 0.07, 0.004, 0.6, 4,\r\n",
        "                    10, 0.5 * 0.3, 0.5 * 0.1, 0.5 * 0.2, 0.4 * 0.2 ]\r\n",
        "    user = user_id\r\n",
        "    a = getBookmarksCount(user, course_id)\r\n",
        "    b = getTimeViewingAndListeningMaterials(user, course_id)\r\n",
        "    if a + b > 0:\r\n",
        "        cnt += 1\r\n",
        "        users_list.append(list())\r\n",
        "        users_list[cnt].append(user)\r\n",
        "        users_list[cnt].append(a)\r\n",
        "        users_list[cnt].append(b)\r\n",
        "        users_list[cnt].append(getStudentCourseRating(user, course_id))\r\n",
        "        users_list[cnt].append(getInfoAboutStudentGroup(user))\r\n",
        "        users_list[cnt].append(getInformationAboutTeacherTests(user))\r\n",
        "        c, d = getInfAboutParticipationInWebinar(user)\r\n",
        "        users_list[cnt].append(c)\r\n",
        "        users_list[cnt].append(d)\r\n",
        "        users_list[cnt].append(getInfAboutParticipationInConferences(user))\r\n",
        "        users_list[cnt].append(getReadingTimeAndPagesCount(user, course_id))\r\n",
        "        p = 0\r\n",
        "        index = 0\r\n",
        "        for i in users_list[cnt]:\r\n",
        "            try:\r\n",
        "                p += i * modifiers_list[index]\r\n",
        "                index += 1\r\n",
        "            except TypeError:\r\n",
        "                continue\r\n",
        "    return p\r\n",
        "            "
      ],
      "execution_count": null,
      "outputs": []
    },
    {
      "cell_type": "code",
      "metadata": {
        "colab": {
          "base_uri": "https://localhost:8080/"
        },
        "id": "M_R0LM18-d6R",
        "outputId": "b8e8cab7-37de-4dca-f2f3-a50250861df5"
      },
      "source": [
        "print(GetASDRating('0001B454-1397-4DE6-A333-FC9096EEE52C'))"
      ],
      "execution_count": null,
      "outputs": [
        {
          "output_type": "stream",
          "text": [
            "0.14\n"
          ],
          "name": "stdout"
        }
      ]
    },
    {
      "cell_type": "code",
      "metadata": {
        "colab": {
          "base_uri": "https://localhost:8080/",
          "height": 307
        },
        "id": "7jsQ0WgrrKSe",
        "outputId": "e4b3a259-83c8-4887-e76d-3a3d06f2f3a9"
      },
      "source": [
        "df"
      ],
      "execution_count": null,
      "outputs": [
        {
          "output_type": "execute_result",
          "data": {
            "text/html": [
              "<div>\n",
              "<style scoped>\n",
              "    .dataframe tbody tr th:only-of-type {\n",
              "        vertical-align: middle;\n",
              "    }\n",
              "\n",
              "    .dataframe tbody tr th {\n",
              "        vertical-align: top;\n",
              "    }\n",
              "\n",
              "    .dataframe thead th {\n",
              "        text-align: right;\n",
              "    }\n",
              "</style>\n",
              "<table border=\"1\" class=\"dataframe\">\n",
              "  <thead>\n",
              "    <tr style=\"text-align: right;\">\n",
              "      <th></th>\n",
              "      <th>user</th>\n",
              "      <th>BookmarksCount</th>\n",
              "      <th>Materials</th>\n",
              "      <th>CourseRating</th>\n",
              "      <th>StudentGroup</th>\n",
              "      <th>TeacherTests</th>\n",
              "      <th>InWebinarCer</th>\n",
              "      <th>InWebinarCnt</th>\n",
              "      <th>InConferences</th>\n",
              "      <th>Reading</th>\n",
              "      <th>SDA</th>\n",
              "    </tr>\n",
              "  </thead>\n",
              "  <tbody>\n",
              "    <tr>\n",
              "      <th>0</th>\n",
              "      <td>0001B454-1397-4DE6-A333-FC9096EEE52C</td>\n",
              "      <td>2</td>\n",
              "      <td>0</td>\n",
              "      <td>0</td>\n",
              "      <td>0</td>\n",
              "      <td>0</td>\n",
              "      <td>countVisited</td>\n",
              "      <td>countCertificates</td>\n",
              "      <td>0</td>\n",
              "      <td>None</td>\n",
              "      <td>0.14</td>\n",
              "    </tr>\n",
              "    <tr>\n",
              "      <th>1</th>\n",
              "      <td>0001C256-19A4-4765-A517-9A9AFA442A14</td>\n",
              "      <td>2</td>\n",
              "      <td>0</td>\n",
              "      <td>0</td>\n",
              "      <td>0</td>\n",
              "      <td>0</td>\n",
              "      <td>countVisited</td>\n",
              "      <td>countCertificates</td>\n",
              "      <td>0</td>\n",
              "      <td>None</td>\n",
              "      <td>0.14</td>\n",
              "    </tr>\n",
              "    <tr>\n",
              "      <th>2</th>\n",
              "      <td>0001EDC4-D030-4824-8E42-FA743AE2507D</td>\n",
              "      <td>27</td>\n",
              "      <td>0</td>\n",
              "      <td>0</td>\n",
              "      <td>0</td>\n",
              "      <td>0</td>\n",
              "      <td>countVisited</td>\n",
              "      <td>countCertificates</td>\n",
              "      <td>0</td>\n",
              "      <td>None</td>\n",
              "      <td>1.89</td>\n",
              "    </tr>\n",
              "  </tbody>\n",
              "</table>\n",
              "</div>"
            ],
            "text/plain": [
              "                                   user  BookmarksCount  ...  Reading   SDA\n",
              "0  0001B454-1397-4DE6-A333-FC9096EEE52C               2  ...     None  0.14\n",
              "1  0001C256-19A4-4765-A517-9A9AFA442A14               2  ...     None  0.14\n",
              "2  0001EDC4-D030-4824-8E42-FA743AE2507D              27  ...     None  1.89\n",
              "\n",
              "[3 rows x 11 columns]"
            ]
          },
          "metadata": {
            "tags": []
          },
          "execution_count": 396
        }
      ]
    },
    {
      "cell_type": "code",
      "metadata": {
        "colab": {
          "base_uri": "https://localhost:8080/",
          "height": 627
        },
        "id": "A7QmsGz_U624",
        "outputId": "d3868dee-2d68-46b0-b0ef-fc7fb512a016"
      },
      "source": [
        "dumpDF = dumpDF.append(df)\n",
        "dumpDF = dumpDF.drop_duplicates()\n",
        "dumpDF.sort_values('SDA',ascending=False)"
      ],
      "execution_count": null,
      "outputs": [
        {
          "output_type": "execute_result",
          "data": {
            "text/html": [
              "<div>\n",
              "<style scoped>\n",
              "    .dataframe tbody tr th:only-of-type {\n",
              "        vertical-align: middle;\n",
              "    }\n",
              "\n",
              "    .dataframe tbody tr th {\n",
              "        vertical-align: top;\n",
              "    }\n",
              "\n",
              "    .dataframe thead th {\n",
              "        text-align: right;\n",
              "    }\n",
              "</style>\n",
              "<table border=\"1\" class=\"dataframe\">\n",
              "  <thead>\n",
              "    <tr style=\"text-align: right;\">\n",
              "      <th></th>\n",
              "      <th>user</th>\n",
              "      <th>BookmarksCount</th>\n",
              "      <th>Materials</th>\n",
              "      <th>CourseRating</th>\n",
              "      <th>StudentGroup</th>\n",
              "      <th>TeacherTests</th>\n",
              "      <th>InWebinarCer</th>\n",
              "      <th>InWebinarCnt</th>\n",
              "      <th>InConferences</th>\n",
              "      <th>Reading</th>\n",
              "      <th>SDA</th>\n",
              "    </tr>\n",
              "  </thead>\n",
              "  <tbody>\n",
              "    <tr>\n",
              "      <th>1</th>\n",
              "      <td>00007F8B-D3F1-45E5-87BC-8474A06A1513</td>\n",
              "      <td>93</td>\n",
              "      <td>12530</td>\n",
              "      <td>0</td>\n",
              "      <td>0</td>\n",
              "      <td>0</td>\n",
              "      <td>countVisited</td>\n",
              "      <td>countCertificates</td>\n",
              "      <td>0</td>\n",
              "      <td>30.5833</td>\n",
              "      <td>58.159167</td>\n",
              "    </tr>\n",
              "    <tr>\n",
              "      <th>3</th>\n",
              "      <td>00010DE8-1705-4275-B121-7A74C6579BDD</td>\n",
              "      <td>0</td>\n",
              "      <td>13446</td>\n",
              "      <td>0</td>\n",
              "      <td>0</td>\n",
              "      <td>0</td>\n",
              "      <td>countVisited</td>\n",
              "      <td>countCertificates</td>\n",
              "      <td>0</td>\n",
              "      <td>76.2308</td>\n",
              "      <td>57.595538</td>\n",
              "    </tr>\n",
              "    <tr>\n",
              "      <th>2</th>\n",
              "      <td>0001EDC4-D030-4824-8E42-FA743AE2507D</td>\n",
              "      <td>27</td>\n",
              "      <td>0</td>\n",
              "      <td>0</td>\n",
              "      <td>0</td>\n",
              "      <td>0</td>\n",
              "      <td>countVisited</td>\n",
              "      <td>countCertificates</td>\n",
              "      <td>0</td>\n",
              "      <td>None</td>\n",
              "      <td>1.890000</td>\n",
              "    </tr>\n",
              "    <tr>\n",
              "      <th>0</th>\n",
              "      <td>00003052-D3BC-4965-9239-3BEE91FED0A1</td>\n",
              "      <td>5</td>\n",
              "      <td>0</td>\n",
              "      <td>0</td>\n",
              "      <td>0</td>\n",
              "      <td>0</td>\n",
              "      <td>countVisited</td>\n",
              "      <td>countCertificates</td>\n",
              "      <td>0</td>\n",
              "      <td>10.9603</td>\n",
              "      <td>0.898013</td>\n",
              "    </tr>\n",
              "    <tr>\n",
              "      <th>2</th>\n",
              "      <td>0000F1DE-F492-4666-B260-791755DD45D0</td>\n",
              "      <td>0</td>\n",
              "      <td>104</td>\n",
              "      <td>0</td>\n",
              "      <td>0</td>\n",
              "      <td>0</td>\n",
              "      <td>countVisited</td>\n",
              "      <td>countCertificates</td>\n",
              "      <td>0</td>\n",
              "      <td>1.29825</td>\n",
              "      <td>0.480912</td>\n",
              "    </tr>\n",
              "    <tr>\n",
              "      <th>0</th>\n",
              "      <td>0001B454-1397-4DE6-A333-FC9096EEE52C</td>\n",
              "      <td>2</td>\n",
              "      <td>0</td>\n",
              "      <td>0</td>\n",
              "      <td>0</td>\n",
              "      <td>0</td>\n",
              "      <td>countVisited</td>\n",
              "      <td>countCertificates</td>\n",
              "      <td>0</td>\n",
              "      <td>None</td>\n",
              "      <td>0.140000</td>\n",
              "    </tr>\n",
              "    <tr>\n",
              "      <th>1</th>\n",
              "      <td>0001C256-19A4-4765-A517-9A9AFA442A14</td>\n",
              "      <td>2</td>\n",
              "      <td>0</td>\n",
              "      <td>0</td>\n",
              "      <td>0</td>\n",
              "      <td>0</td>\n",
              "      <td>countVisited</td>\n",
              "      <td>countCertificates</td>\n",
              "      <td>0</td>\n",
              "      <td>None</td>\n",
              "      <td>0.140000</td>\n",
              "    </tr>\n",
              "  </tbody>\n",
              "</table>\n",
              "</div>"
            ],
            "text/plain": [
              "                                   user BookmarksCount  ...  Reading        SDA\n",
              "1  00007F8B-D3F1-45E5-87BC-8474A06A1513             93  ...  30.5833  58.159167\n",
              "3  00010DE8-1705-4275-B121-7A74C6579BDD              0  ...  76.2308  57.595538\n",
              "2  0001EDC4-D030-4824-8E42-FA743AE2507D             27  ...     None   1.890000\n",
              "0  00003052-D3BC-4965-9239-3BEE91FED0A1              5  ...  10.9603   0.898013\n",
              "2  0000F1DE-F492-4666-B260-791755DD45D0              0  ...  1.29825   0.480912\n",
              "0  0001B454-1397-4DE6-A333-FC9096EEE52C              2  ...     None   0.140000\n",
              "1  0001C256-19A4-4765-A517-9A9AFA442A14              2  ...     None   0.140000\n",
              "\n",
              "[7 rows x 11 columns]"
            ]
          },
          "metadata": {
            "tags": []
          },
          "execution_count": 397
        }
      ]
    },
    {
      "cell_type": "code",
      "metadata": {
        "id": "s6WwL3NQtbRp"
      },
      "source": [
        "def GetRatingInCurrentBase(user_id=str):\n",
        "    try:\n",
        "        sda = dumpDF[dumpDF['user'] == user_id]['SDA']\n",
        "        return len(dumpDF[dumpDF['SDA'] > int(sda)])\n",
        "    except TypeError:\n",
        "        return None\n"
      ],
      "execution_count": null,
      "outputs": []
    },
    {
      "cell_type": "code",
      "metadata": {
        "id": "imxxUdixzpI2"
      },
      "source": [
        "def GetRatingInCurrentBaseByLoaction(getUsersByLocation, user_id = str, region_id = int):\r\n",
        "  try:\r\n",
        "    usersInLocation = getUsersByLocation(region_id)\r\n",
        "    sda = dumpDF[dumpDF['user'] == user_id]['SDA']\r\n",
        "    return len(dumpDF[dumpDF['SDA'] > int(sda) and dumpDF['user'] in usersInLocation])\r\n",
        "  except TypeError:\r\n",
        "    return None"
      ],
      "execution_count": null,
      "outputs": []
    },
    {
      "cell_type": "code",
      "metadata": {
        "id": "ej4wMQVAGyZz"
      },
      "source": [
        "def GetRatingInCurrentBaseByLocationAndCourse(getUsersByLocation, course_id = str, user_id = str, region_id = int):\r\n",
        "  try:\r\n",
        "    usersInLocation = getUsersByLocation(region_id)\r\n",
        "    sda = dumpDF[dumpDF['user'] == user_id]['SDA']\r\n",
        "    return len(dumpDF[dumpDF['SDA'] > int(sda) and dumpDF['user'] in usersInLocation])\r\n",
        "  except TypeError:\r\n",
        "    return None"
      ],
      "execution_count": null,
      "outputs": []
    },
    {
      "cell_type": "code",
      "metadata": {
        "colab": {
          "base_uri": "https://localhost:8080/"
        },
        "id": "Wo2vmSHuzNXv",
        "outputId": "0c746567-0190-4a5d-fd3a-f8aba2c7fae6"
      },
      "source": [
        "GetRatingInCurrentBase('0001B454-1397-4DE6-A333-FC9096EEE52C')"
      ],
      "execution_count": null,
      "outputs": [
        {
          "output_type": "execute_result",
          "data": {
            "text/plain": [
              "7"
            ]
          },
          "metadata": {
            "tags": []
          },
          "execution_count": 398
        }
      ]
    },
    {
      "cell_type": "markdown",
      "metadata": {
        "id": "cAHTlXBAzR1Z"
      },
      "source": [
        "## Нормировка"
      ]
    },
    {
      "cell_type": "markdown",
      "metadata": {
        "id": "AMpH4Bw20ckR"
      },
      "source": [
        "### Вытянуть всех студентов из базы"
      ]
    },
    {
      "cell_type": "code",
      "metadata": {
        "id": "cqTNPTEq0c67"
      },
      "source": [
        "cursor.execute(\"\"\"SELECT ebs_user_id FROM ebs_users \r\n",
        "                WHERE ebs_user_id IN (SELECT ebs_user_id FROM users_market_depart\r\n",
        "                  WHERE role_id = 3)\r\n",
        "                    AND is_dead = 0\r\n",
        "                      AND is_bot = 0\r\n",
        "                        AND reg_date != 'NaT'\r\n",
        "                          AND login_id != 'None'\"\"\")\r\n",
        "allStudents = cursor.fetchall()\r\n",
        "pd.DataFrame(allStudents)]"
      ],
      "execution_count": null,
      "outputs": []
    },
    {
      "cell_type": "markdown",
      "metadata": {
        "id": "-cyFzK2HziuR"
      },
      "source": [
        "### Максимум и минимум чтения текстовых материалов"
      ]
    },
    {
      "cell_type": "code",
      "metadata": {
        "id": "sNf9X-FUzZOp"
      },
      "source": [
        "def getMinMaxOfReadingTime():\r\n",
        "  min = 0\r\n",
        "  max = 0\r\n",
        "  for student in allStudents:\r\n",
        "    data = getReadingTimeAndPagesCount(student['ebs_user_id'])\r\n",
        "    pageTime = data['time'] / data['pages'] if data != None else 0\r\n",
        "    print(pageTime)\r\n",
        "    if pageTime > max:\r\n",
        "      max = pageTime\r\n",
        "    if pageTime < min:\r\n",
        "      min = pageTime\r\n",
        "  return [min, max]\r\n",
        "\r\n",
        "data = getMinMaxOfCourseReadingTime('0007A73E-B577-4928-A044-8295D9B119EC')\r\n",
        "print(data[0], data[1])"
      ],
      "execution_count": null,
      "outputs": []
    }
  ]
}